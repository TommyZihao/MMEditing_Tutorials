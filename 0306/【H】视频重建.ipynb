{
 "cells": [
  {
   "cell_type": "markdown",
   "id": "09a4b4c8-e867-42b9-8122-c04cef3688a8",
   "metadata": {},
   "source": [
    "# 视频重建\n",
    "\n",
    "同济子豪兄 2023-3-6"
   ]
  },
  {
   "cell_type": "markdown",
   "id": "a9712bd4-654c-4c27-a6cf-7ecfee6186a3",
   "metadata": {
    "tags": []
   },
   "source": [
    "## 进入 MMEditing 主目录"
   ]
  },
  {
   "cell_type": "code",
   "execution_count": 1,
   "id": "0df9297e-4f7d-4e67-be2f-19646a811eec",
   "metadata": {},
   "outputs": [],
   "source": [
    "import os\n",
    "os.chdir('mmediting')"
   ]
  },
  {
   "cell_type": "markdown",
   "id": "7952061b-b670-4012-bc90-a110b091a07e",
   "metadata": {},
   "source": [
    "## 导入工具包"
   ]
  },
  {
   "cell_type": "code",
   "execution_count": 2,
   "id": "d4e42a10-ece9-4b1d-9ebc-fafbe59f3905",
   "metadata": {},
   "outputs": [],
   "source": [
    "from mmedit.edit import MMEdit\n",
    "from PIL import Image\n",
    "\n",
    "import matplotlib.pyplot as plt\n",
    "%matplotlib inline"
   ]
  },
  {
   "cell_type": "markdown",
   "id": "59bda25c-d24f-49a1-9ad6-ba0eadb8842d",
   "metadata": {},
   "source": [
    "## MMEdit实例"
   ]
  },
  {
   "cell_type": "code",
   "execution_count": 3,
   "id": "1d7bc991-18a9-4d12-a1c7-fc6f8354ee8b",
   "metadata": {},
   "outputs": [
    {
     "name": "stdout",
     "output_type": "stream",
     "text": [
      "Loads checkpoint by http backend from path: https://download.openmmlab.com/mmediting/restorers/edvr/edvrm_wotsa_x4_8x4_600k_reds_20200522-0570e567.pth\n",
      "03/06 18:50:50 - mmengine - \u001b[5m\u001b[4m\u001b[33mWARNING\u001b[0m - Failed to search registry with scope \"mmedit\" in the \"Collate Functions\" registry tree. As a workaround, the current \"Collate Functions\" registry in \"mmengine\" is used to build instance. This may cause unexpected failure when running the built modules. Please check whether \"mmedit\" is a correct scope, or whether the registry is initialized.\n"
     ]
    },
    {
     "name": "stderr",
     "output_type": "stream",
     "text": [
      "/environment/miniconda3/lib/python3.7/site-packages/mmengine/visualization/visualizer.py:166: UserWarning: `Visualizer` backend is not initialized because save_dir is None.\n",
      "  warnings.warn('`Visualizer` backend is not initialized '\n"
     ]
    }
   ],
   "source": [
    "editor = MMEdit('edvr', extra_parameters={'window_size':5})"
   ]
  },
  {
   "cell_type": "markdown",
   "id": "81ec9939-60a1-4f53-a7dd-54afd99c4169",
   "metadata": {},
   "source": [
    "## 指定输入输出视频路径"
   ]
  },
  {
   "cell_type": "code",
   "execution_count": 7,
   "id": "a5489c9f-ae93-4ca1-8bb2-3f4d20c39f6c",
   "metadata": {},
   "outputs": [],
   "source": [
    "video_path = 'data/video_sr/QUuC4vJs_000084_000094_400x320.mp4'\n",
    "\n",
    "out_path = 'outputs/video_sr.mp4'"
   ]
  },
  {
   "cell_type": "markdown",
   "id": "537890c0-4ab5-4afd-ae5b-20d7bd4fcf27",
   "metadata": {},
   "source": [
    "## 执行预测"
   ]
  },
  {
   "cell_type": "code",
   "execution_count": 8,
   "id": "db9f7080-f1bb-40c2-bf18-f053b516a063",
   "metadata": {},
   "outputs": [
    {
     "name": "stdout",
     "output_type": "stream",
     "text": [
      "03/06 18:54:19 - mmengine - \u001b[4m\u001b[37mINFO\u001b[0m - Output video is save at outputs/video_sr.mp4.\n",
      "03/06 18:54:19 - mmengine - \u001b[4m\u001b[37mINFO\u001b[0m - Postprocess is implemented in visualize process.\n"
     ]
    }
   ],
   "source": [
    "results = editor.infer(video=video_path, result_out_dir=out_path)"
   ]
  },
  {
   "cell_type": "code",
   "execution_count": null,
   "id": "58015b21-bf99-46c8-ba8e-5181cff318be",
   "metadata": {},
   "outputs": [],
   "source": []
  }
 ],
 "metadata": {
  "kernelspec": {
   "display_name": "Python 3 (ipykernel)",
   "language": "python",
   "name": "python3"
  },
  "language_info": {
   "codemirror_mode": {
    "name": "ipython",
    "version": 3
   },
   "file_extension": ".py",
   "mimetype": "text/x-python",
   "name": "python",
   "nbconvert_exporter": "python",
   "pygments_lexer": "ipython3",
   "version": "3.7.10"
  }
 },
 "nbformat": 4,
 "nbformat_minor": 5
}
