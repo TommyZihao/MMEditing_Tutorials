{
 "cells": [
  {
   "cell_type": "markdown",
   "id": "f7f6bb0d-f200-45d3-ab8c-875b8f213bb9",
   "metadata": {},
   "source": [
    "# 视频插帧\n",
    "\n",
    "同济子豪兄 2023-3-6"
   ]
  },
  {
   "cell_type": "markdown",
   "id": "c8d42872-0d8a-4e3c-bd01-2c75200050da",
   "metadata": {
    "tags": []
   },
   "source": [
    "## 进入 MMEditing 主目录"
   ]
  },
  {
   "cell_type": "code",
   "execution_count": 1,
   "id": "5eb804e4-8f19-45ae-963f-aa1c9ab8d1bb",
   "metadata": {},
   "outputs": [],
   "source": [
    "import os\n",
    "os.chdir('mmediting')"
   ]
  },
  {
   "cell_type": "markdown",
   "id": "d196d5b5-ac84-4470-b337-5f1241ef81c0",
   "metadata": {},
   "source": [
    "## 导入工具包"
   ]
  },
  {
   "cell_type": "code",
   "execution_count": 2,
   "id": "4994607b-9a7f-4742-9ed4-9751719e4f3d",
   "metadata": {},
   "outputs": [],
   "source": [
    "from mmedit.edit import MMEdit\n",
    "from PIL import Image\n",
    "\n",
    "import matplotlib.pyplot as plt\n",
    "%matplotlib inline"
   ]
  },
  {
   "cell_type": "markdown",
   "id": "f5ce6dcd-b4f0-430d-bb98-32d0d2a8bec3",
   "metadata": {},
   "source": [
    "## MMEdit实例"
   ]
  },
  {
   "cell_type": "code",
   "execution_count": 3,
   "id": "eaacf4c4-4ab7-44f7-bd6a-6e73f8118dee",
   "metadata": {},
   "outputs": [
    {
     "name": "stdout",
     "output_type": "stream",
     "text": [
      "Loads checkpoint by http backend from path: https://download.openmmlab.com/mmediting/video_interpolators/flavr/flavr_in4out1_g8b4_vimeo90k_septuplet_20220509-c2468995.pth\n"
     ]
    },
    {
     "name": "stderr",
     "output_type": "stream",
     "text": [
      "Downloading: \"https://download.openmmlab.com/mmediting/video_interpolators/flavr/flavr_in4out1_g8b4_vimeo90k_septuplet_20220509-c2468995.pth\" to /home/featurize/.cache/torch/hub/checkpoints/flavr_in4out1_g8b4_vimeo90k_septuplet_20220509-c2468995.pth\n"
     ]
    },
    {
     "name": "stdout",
     "output_type": "stream",
     "text": [
      "03/06 18:46:31 - mmengine - \u001b[5m\u001b[4m\u001b[33mWARNING\u001b[0m - Failed to search registry with scope \"mmedit\" in the \"Collate Functions\" registry tree. As a workaround, the current \"Collate Functions\" registry in \"mmengine\" is used to build instance. This may cause unexpected failure when running the built modules. Please check whether \"mmedit\" is a correct scope, or whether the registry is initialized.\n"
     ]
    },
    {
     "name": "stderr",
     "output_type": "stream",
     "text": [
      "/environment/miniconda3/lib/python3.7/site-packages/mmengine/visualization/visualizer.py:166: UserWarning: `Visualizer` backend is not initialized because save_dir is None.\n",
      "  warnings.warn('`Visualizer` backend is not initialized '\n"
     ]
    }
   ],
   "source": [
    "editor = MMEdit('flavr')"
   ]
  },
  {
   "cell_type": "markdown",
   "id": "897c6179-e2e2-4a05-8294-2fa6a45e8e64",
   "metadata": {},
   "source": [
    "## 指定视频输入输出路径"
   ]
  },
  {
   "cell_type": "code",
   "execution_count": 4,
   "id": "48c4853b-a911-4a6e-a7b0-1b42d0b8e8b2",
   "metadata": {},
   "outputs": [],
   "source": [
    "video_path = 'data/video_inter/b-3LLDhc4EU_000000_000010.mp4'\n",
    "out_path = 'outputs/video_interpolation_flavr_res.mp4'"
   ]
  },
  {
   "cell_type": "markdown",
   "id": "87de03da-f962-4ab8-b590-943588b3e447",
   "metadata": {},
   "source": [
    "## 执行预测"
   ]
  },
  {
   "cell_type": "code",
   "execution_count": 5,
   "id": "07ceb40e-ac85-4c17-b3f5-1a7eb4b80035",
   "metadata": {},
   "outputs": [
    {
     "name": "stdout",
     "output_type": "stream",
     "text": [
      "[>>>>>>>>>>>>>>>>>>>>>>>>>>>>>>>>>] 22/22, 2.5 task/s, elapsed: 9s, ETA:     0s03/06 18:46:49 - mmengine - \u001b[4m\u001b[37mINFO\u001b[0m - Output video is save at outputs/video_interpolation_flavr_res.mp4.\n",
      "03/06 18:46:49 - mmengine - \u001b[4m\u001b[37mINFO\u001b[0m - Visualization is implemented in forward process.\n",
      "03/06 18:46:49 - mmengine - \u001b[4m\u001b[37mINFO\u001b[0m - Postprocess is implemented in forward process.\n"
     ]
    }
   ],
   "source": [
    "results = editor.infer(video=video_path, result_out_dir=out_path)"
   ]
  },
  {
   "cell_type": "code",
   "execution_count": null,
   "id": "f194794c-52fe-4a94-a765-3a006f27333a",
   "metadata": {},
   "outputs": [],
   "source": []
  }
 ],
 "metadata": {
  "kernelspec": {
   "display_name": "Python 3 (ipykernel)",
   "language": "python",
   "name": "python3"
  },
  "language_info": {
   "codemirror_mode": {
    "name": "ipython",
    "version": 3
   },
   "file_extension": ".py",
   "mimetype": "text/x-python",
   "name": "python",
   "nbconvert_exporter": "python",
   "pygments_lexer": "ipython3",
   "version": "3.7.10"
  }
 },
 "nbformat": 4,
 "nbformat_minor": 5
}
