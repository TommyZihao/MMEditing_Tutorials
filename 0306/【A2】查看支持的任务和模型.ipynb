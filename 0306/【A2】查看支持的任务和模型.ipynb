{
 "cells": [
  {
   "cell_type": "markdown",
   "id": "b35b2908-8f58-4d89-ba01-91f5add9cf51",
   "metadata": {},
   "source": [
    "# 查看支持的任务和模型\n",
    "\n",
    "同济子豪兄 2023-3-6"
   ]
  },
  {
   "cell_type": "markdown",
   "id": "c3e013cf-4b90-4d3b-a305-d026fcb851dd",
   "metadata": {},
   "source": [
    "## 导入工具包"
   ]
  },
  {
   "cell_type": "code",
   "execution_count": 1,
   "id": "ff33868e-8df3-4614-bf03-a2a03496c68e",
   "metadata": {},
   "outputs": [],
   "source": [
    "from mmedit.edit import MMEdit"
   ]
  },
  {
   "cell_type": "markdown",
   "id": "d4d7662d-6f57-46b9-a663-35b75c2f77b4",
   "metadata": {},
   "source": [
    "## 所有支持的模型"
   ]
  },
  {
   "cell_type": "code",
   "execution_count": 3,
   "id": "bf86a5af-8b4c-47db-a51f-08d0f130c293",
   "metadata": {},
   "outputs": [],
   "source": [
    "inference_supported_models = MMEdit.get_inference_supported_models()"
   ]
  },
  {
   "cell_type": "code",
   "execution_count": 4,
   "id": "caa17cbc-2f55-4137-a0ad-a180d61e9a31",
   "metadata": {},
   "outputs": [
    {
     "data": {
      "text/plain": [
       "['inst_colorization',\n",
       " 'biggan',\n",
       " 'sngan_proj',\n",
       " 'sagan',\n",
       " 'dcgan',\n",
       " 'wgan-gp',\n",
       " 'lsgan',\n",
       " 'ggan',\n",
       " 'pggan',\n",
       " 'styleganv1',\n",
       " 'styleganv2',\n",
       " 'styleganv3',\n",
       " 'gca',\n",
       " 'global_local',\n",
       " 'aot_gan',\n",
       " 'pix2pix',\n",
       " 'cyclegan',\n",
       " 'esrgan',\n",
       " 'flavr',\n",
       " 'cain',\n",
       " 'edvr',\n",
       " 'disco_diffusion',\n",
       " 'eg3d']"
      ]
     },
     "execution_count": 4,
     "metadata": {},
     "output_type": "execute_result"
    }
   ],
   "source": [
    "inference_supported_models"
   ]
  },
  {
   "cell_type": "markdown",
   "id": "724f63f6-9994-4286-85fc-1845a303d68e",
   "metadata": {},
   "source": [
    "## 所有支持的任务"
   ]
  },
  {
   "cell_type": "code",
   "execution_count": 5,
   "id": "761db28e-81e9-4c8c-9f10-c0d13681de70",
   "metadata": {},
   "outputs": [],
   "source": [
    "supported_tasks = MMEdit.get_inference_supported_tasks()"
   ]
  },
  {
   "cell_type": "code",
   "execution_count": 6,
   "id": "cf8ba5d8-b076-48a0-b800-88a6ffc2478c",
   "metadata": {},
   "outputs": [
    {
     "data": {
      "text/plain": [
       "['Conditional GANs',\n",
       " '3D-aware Generation',\n",
       " 'Video Super-Resolution',\n",
       " 'Image Super-Resolution',\n",
       " 'Text2Image, Image2Image',\n",
       " 'Image2Image',\n",
       " 'Video Interpolation',\n",
       " 'Colorization',\n",
       " 'Unconditional GANs',\n",
       " 'Inpainting',\n",
       " 'Matting']"
      ]
     },
     "execution_count": 6,
     "metadata": {},
     "output_type": "execute_result"
    }
   ],
   "source": [
    "supported_tasks"
   ]
  },
  {
   "cell_type": "markdown",
   "id": "ba677751-c897-48b1-acd2-354109386429",
   "metadata": {},
   "source": [
    "## 查看指定任务支持的模型"
   ]
  },
  {
   "cell_type": "code",
   "execution_count": 8,
   "id": "570b47ce-ba4f-49fe-9a2a-71baaa4ca59e",
   "metadata": {},
   "outputs": [],
   "source": [
    "task_supported_models = MMEdit.get_task_supported_models('Image2Image')"
   ]
  },
  {
   "cell_type": "code",
   "execution_count": 9,
   "id": "f6be3456-4187-43f6-964a-258ba388a9f5",
   "metadata": {},
   "outputs": [
    {
     "data": {
      "text/plain": [
       "['pix2pix', 'cyclegan']"
      ]
     },
     "execution_count": 9,
     "metadata": {},
     "output_type": "execute_result"
    }
   ],
   "source": [
    "task_supported_models"
   ]
  },
  {
   "cell_type": "code",
   "execution_count": null,
   "id": "624105a3-0928-43f0-9141-2eedcec0bb0d",
   "metadata": {},
   "outputs": [],
   "source": []
  }
 ],
 "metadata": {
  "kernelspec": {
   "display_name": "Python 3 (ipykernel)",
   "language": "python",
   "name": "python3"
  },
  "language_info": {
   "codemirror_mode": {
    "name": "ipython",
    "version": 3
   },
   "file_extension": ".py",
   "mimetype": "text/x-python",
   "name": "python",
   "nbconvert_exporter": "python",
   "pygments_lexer": "ipython3",
   "version": "3.7.10"
  }
 },
 "nbformat": 4,
 "nbformat_minor": 5
}
