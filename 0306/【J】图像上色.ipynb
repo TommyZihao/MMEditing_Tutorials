{
 "cells": [
  {
   "cell_type": "markdown",
   "id": "96ad9465-51d6-4314-a9af-aa48b3444a0b",
   "metadata": {},
   "source": [
    "# 图像上色\n",
    "\n",
    "同济子豪兄 2023-3-6"
   ]
  },
  {
   "cell_type": "markdown",
   "id": "1397d047-ac10-4b56-a855-e38d4ae75aaa",
   "metadata": {},
   "source": [
    "## 安装依赖包"
   ]
  },
  {
   "cell_type": "code",
   "execution_count": null,
   "id": "ffc68020-9707-4436-8874-15566e373b35",
   "metadata": {},
   "outputs": [],
   "source": [
    "!mim install 'mmdet >= 3.0.0rc2'"
   ]
  },
  {
   "cell_type": "markdown",
   "id": "c8cbf7ea-90a6-4f73-bfb9-0118ca79722f",
   "metadata": {
    "tags": []
   },
   "source": [
    "## 进入 MMEditing 主目录"
   ]
  },
  {
   "cell_type": "code",
   "execution_count": 1,
   "id": "14cb21d9-932c-42a3-8b26-4e2a65d75fe9",
   "metadata": {},
   "outputs": [],
   "source": [
    "import os\n",
    "os.chdir('mmediting')"
   ]
  },
  {
   "cell_type": "markdown",
   "id": "766adc39-8358-4a48-82d0-426b6d9c0598",
   "metadata": {},
   "source": [
    "## 执行预测"
   ]
  },
  {
   "cell_type": "code",
   "execution_count": 3,
   "id": "753a999f-07ea-48d6-a449-5c9f9993e933",
   "metadata": {},
   "outputs": [
    {
     "name": "stdout",
     "output_type": "stream",
     "text": [
      "--2023-03-06 19:20:16--  https://zihao-openmmlab.obs.cn-east-3.myhuaweicloud.com/20230227-MMEditing/data/lion.jpg\n",
      "正在连接 172.16.0.13:5848... 已连接。\n",
      "已发出 Proxy 请求，正在等待回应... 200 OK\n",
      "长度： 75348 (74K) [image/jpeg]\n",
      "正在保存至: “data/lion.jpg.1”\n",
      "\n",
      "lion.jpg.1          100%[===================>]  73.58K  --.-KB/s    用时 0.1s    \n",
      "\n",
      "2023-03-06 19:20:16 (734 KB/s) - 已保存 “data/lion.jpg.1” [75348/75348])\n",
      "\n"
     ]
    }
   ],
   "source": [
    "!wget https://zihao-openmmlab.obs.cn-east-3.myhuaweicloud.com/20230227-MMEditing/data/lion_black.jpg -P data"
   ]
  },
  {
   "cell_type": "code",
   "execution_count": 2,
   "id": "9fe9ae9c-b162-489d-85ea-031fa971912f",
   "metadata": {},
   "outputs": [
    {
     "name": "stdout",
     "output_type": "stream",
     "text": [
      "Loads checkpoint by http backend from path: https://download.openmmlab.com/mmediting/inst_colorization/inst-colorizatioon_full_official_cocostuff-256x256-5b9d4eee.pth\n",
      "Loads checkpoint by http backend from path: https://download.openmmlab.com/mmdetection/v2.0/mask_rcnn/mask_rcnn_x101_32x8d_fpn_mstrain-poly_3x_coco/mask_rcnn_x101_32x8d_fpn_mstrain-poly_3x_coco_20210607_161042-8bd2c639.pth\n",
      "Traceback (most recent call last):\n",
      "  File \"demo/colorization_demo.py\", line 43, in <module>\n",
      "    main()\n",
      "  File \"demo/colorization_demo.py\", line 34, in main\n",
      "    output = colorization_inference(model, args.img_path)\n",
      "  File \"/home/featurize/work/MMEditing教程/mmediting/mmedit/apis/inferencers/inference_functions.py\", line 853, in colorization_inference\n",
      "    data['data_samples'][0].box_info.data, [device])[0]\n",
      "AttributeError: 'EditDataSample' object has no attribute 'box_info'\n"
     ]
    }
   ],
   "source": [
    "!python demo/colorization_demo.py \\\n",
    "        configs/inst_colorization/inst-colorizatioon_full_official_cocostuff-256x256.py \\\n",
    "        https://download.openmmlab.com/mmediting/inst_colorization/inst-colorizatioon_full_official_cocostuff-256x256-5b9d4eee.pth \\\n",
    "        data/lion_black.jpg \\\n",
    "        outputs/out_color.jpg\n"
   ]
  },
  {
   "cell_type": "code",
   "execution_count": null,
   "id": "bc0eb498-9c06-4c94-996c-2c55286c3b49",
   "metadata": {},
   "outputs": [],
   "source": []
  },
  {
   "cell_type": "code",
   "execution_count": null,
   "id": "19c84430-5647-4f1f-ac5c-608e1c3cef35",
   "metadata": {},
   "outputs": [],
   "source": []
  }
 ],
 "metadata": {
  "kernelspec": {
   "display_name": "Python 3 (ipykernel)",
   "language": "python",
   "name": "python3"
  },
  "language_info": {
   "codemirror_mode": {
    "name": "ipython",
    "version": 3
   },
   "file_extension": ".py",
   "mimetype": "text/x-python",
   "name": "python",
   "nbconvert_exporter": "python",
   "pygments_lexer": "ipython3",
   "version": "3.7.10"
  }
 },
 "nbformat": 4,
 "nbformat_minor": 5
}
