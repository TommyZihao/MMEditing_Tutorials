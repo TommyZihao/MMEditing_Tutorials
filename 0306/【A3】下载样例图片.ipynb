{
 "cells": [
  {
   "cell_type": "markdown",
   "id": "0920e0bf-c263-42a5-ae55-63e95b332766",
   "metadata": {},
   "source": [
    "# 下载样例图片\n",
    "\n",
    "同济子豪兄 2023-3-6"
   ]
  },
  {
   "cell_type": "markdown",
   "id": "e94a4265-5d29-4cae-8ce0-51891d688322",
   "metadata": {
    "tags": []
   },
   "source": [
    "## 进入 MMEditing 主目录"
   ]
  },
  {
   "cell_type": "code",
   "execution_count": 1,
   "id": "bf05bbbc-2699-42aa-963d-3ab78f701cde",
   "metadata": {},
   "outputs": [],
   "source": [
    "import os\n",
    "os.chdir('mmediting')"
   ]
  },
  {
   "cell_type": "markdown",
   "id": "f9a4a034-dd68-4404-b71b-da9c1e178d06",
   "metadata": {},
   "source": [
    "## 下载图像修复样例数据"
   ]
  },
  {
   "cell_type": "code",
   "execution_count": 4,
   "id": "3140ace5-a304-4c24-8277-5cf6a9263c7e",
   "metadata": {},
   "outputs": [
    {
     "name": "stdout",
     "output_type": "stream",
     "text": [
      "--2023-03-06 18:23:41--  https://download.openmmlab.com/mmediting/resources/input/inpainting/bbox_mask.png\n",
      "正在连接 172.16.0.13:5848... 已连接。\n",
      "已发出 Proxy 请求，正在等待回应... 200 OK\n",
      "长度： 665 [image/png]\n",
      "正在保存至: “data/inpainting/bbox_mask.png”\n",
      "\n",
      "bbox_mask.png       100%[===================>]     665  --.-KB/s    用时 0s      \n",
      "\n",
      "2023-03-06 18:23:41 (50.5 MB/s) - 已保存 “data/inpainting/bbox_mask.png” [665/665])\n",
      "\n"
     ]
    }
   ],
   "source": [
    "!wget https://download.openmmlab.com/mmediting/resources/input/inpainting/bbox_mask.png -P data/inpainting\n",
    "!wget https://download.openmmlab.com/mmediting/resources/input/inpainting/celeba_test.png -P data/inpainting"
   ]
  },
  {
   "cell_type": "markdown",
   "id": "85a9f2e0-0aa5-4364-a2d1-8ab4eb77613d",
   "metadata": {},
   "source": [
    "## 下载Matting样例数据"
   ]
  },
  {
   "cell_type": "code",
   "execution_count": 6,
   "id": "e6f83694-3925-4da6-8aa5-2133571dd844",
   "metadata": {},
   "outputs": [
    {
     "name": "stdout",
     "output_type": "stream",
     "text": [
      "--2023-03-06 18:28:52--  https://download.openmmlab.com/mmediting/resources/input/matting/GT05.jpg\n",
      "正在连接 172.16.0.13:5848... 已连接。\n",
      "已发出 Proxy 请求，正在等待回应... 200 OK\n",
      "长度： 155165 (152K) [image/jpeg]\n",
      "正在保存至: “data/matting/GT05.jpg”\n",
      "\n",
      "GT05.jpg            100%[===================>] 151.53K  --.-KB/s    用时 0.02s   \n",
      "\n",
      "2023-03-06 18:28:52 (9.05 MB/s) - 已保存 “data/matting/GT05.jpg” [155165/155165])\n",
      "\n",
      "--2023-03-06 18:28:53--  https://download.openmmlab.com/mmediting/resources/input/matting/GT05_trimap.jpg\n",
      "正在连接 172.16.0.13:5848... 已连接。\n",
      "已发出 Proxy 请求，正在等待回应... 200 OK\n",
      "长度： 9790 (9.6K) [image/jpeg]\n",
      "正在保存至: “data/matting/GT05_trimap.jpg”\n",
      "\n",
      "GT05_trimap.jpg     100%[===================>]   9.56K  --.-KB/s    用时 0s      \n",
      "\n",
      "2023-03-06 18:28:53 (234 MB/s) - 已保存 “data/matting/GT05_trimap.jpg” [9790/9790])\n",
      "\n"
     ]
    }
   ],
   "source": [
    "!wget https://download.openmmlab.com/mmediting/resources/input/matting/GT05.jpg -P data/matting\n",
    "!wget https://download.openmmlab.com/mmediting/resources/input/matting/GT05_trimap.jpg -P data/matting"
   ]
  },
  {
   "cell_type": "markdown",
   "id": "8a7bb8fb-4793-4436-bac0-f1001dac58fd",
   "metadata": {},
   "source": [
    "## 下载超分辨率样例数据"
   ]
  },
  {
   "cell_type": "code",
   "execution_count": 7,
   "id": "821801b7-7970-4c74-9d22-88bd0c2c4614",
   "metadata": {},
   "outputs": [
    {
     "name": "stdout",
     "output_type": "stream",
     "text": [
      "--2023-03-06 18:33:01--  https://download.openmmlab.com/mmediting/resources/input/restoration/000001.png\n",
      "正在连接 172.16.0.13:5848... 已连接。\n",
      "已发出 Proxy 请求，正在等待回应... 200 OK\n",
      "长度： 30634 (30K) [image/png]\n",
      "正在保存至: “data/sr/000001.png”\n",
      "\n",
      "000001.png          100%[===================>]  29.92K  --.-KB/s    用时 0.009s  \n",
      "\n",
      "2023-03-06 18:33:01 (3.29 MB/s) - 已保存 “data/sr/000001.png” [30634/30634])\n",
      "\n",
      "--2023-03-06 18:33:01--  https://download.openmmlab.com/mmediting/resources/input/restoration/0901x2.png\n",
      "正在连接 172.16.0.13:5848... 已连接。\n",
      "已发出 Proxy 请求，正在等待回应... 200 OK\n",
      "长度： 1040949 (1017K) [image/png]\n",
      "正在保存至: “data/sr/0901x2.png”\n",
      "\n",
      "0901x2.png          100%[===================>]   1017K  5.18MB/s    用时 0.2s    \n",
      "\n",
      "2023-03-06 18:33:02 (5.18 MB/s) - 已保存 “data/sr/0901x2.png” [1040949/1040949])\n",
      "\n"
     ]
    }
   ],
   "source": [
    "!wget https://download.openmmlab.com/mmediting/resources/input/restoration/000001.png -P data/sr\n",
    "!wget https://download.openmmlab.com/mmediting/resources/input/restoration/0901x2.png -P data/sr"
   ]
  },
  {
   "cell_type": "markdown",
   "id": "203fd42b-0af8-46a4-91d1-868523230727",
   "metadata": {},
   "source": [
    "## 下载视频插帧样例数据"
   ]
  },
  {
   "cell_type": "code",
   "execution_count": 3,
   "id": "386acb39-38d6-42b7-8791-a3b670959d1a",
   "metadata": {},
   "outputs": [
    {
     "name": "stdout",
     "output_type": "stream",
     "text": [
      "--2023-03-06 18:44:15--  https://download.openmmlab.com/mmediting/resources/input/video_interpolation/b-3LLDhc4EU_000000_000010.mp4\n",
      "正在连接 172.16.0.13:5848... 已连接。\n",
      "已发出 Proxy 请求，正在等待回应... 200 OK\n",
      "长度： 213824 (209K) [video/mp4]\n",
      "正在保存至: “data/video_inter/b-3LLDhc4EU_000000_000010.mp4”\n",
      "\n",
      "b-3LLDhc4EU_000000_ 100%[===================>] 208.81K  --.-KB/s    用时 0.05s   \n",
      "\n",
      "2023-03-06 18:44:15 (4.28 MB/s) - 已保存 “data/video_inter/b-3LLDhc4EU_000000_000010.mp4” [213824/213824])\n",
      "\n"
     ]
    }
   ],
   "source": [
    "!wget https://download.openmmlab.com/mmediting/resources/input/video_interpolation/b-3LLDhc4EU_000000_000010.mp4 -P data/video_inter"
   ]
  },
  {
   "cell_type": "markdown",
   "id": "5cb770c4-c113-47e2-a76e-a716f1c693ac",
   "metadata": {},
   "source": [
    "## 下载视频重建样例数据"
   ]
  },
  {
   "cell_type": "code",
   "execution_count": 4,
   "id": "c10e4916-c8e3-412a-885b-b5f6d9510e2f",
   "metadata": {},
   "outputs": [
    {
     "name": "stdout",
     "output_type": "stream",
     "text": [
      "--2023-03-06 18:49:24--  https://download.openmmlab.com/mmediting/resources/input/video_restoration/QUuC4vJs_000084_000094_400x320.mp4\n",
      "正在连接 172.16.0.13:5848... 已连接。\n",
      "已发出 Proxy 请求，正在等待回应... 200 OK\n",
      "长度： 298330 (291K) [video/mp4]\n",
      "正在保存至: “data/video_sr/QUuC4vJs_000084_000094_400x320.mp4”\n",
      "\n",
      "QUuC4vJs_000084_000 100%[===================>] 291.34K  --.-KB/s    用时 0.1s    \n",
      "\n",
      "2023-03-06 18:49:24 (2.57 MB/s) - 已保存 “data/video_sr/QUuC4vJs_000084_000094_400x320.mp4” [298330/298330])\n",
      "\n",
      "--2023-03-06 18:49:24--  https://download.openmmlab.com/mmediting/resources/input/video_restoration/v_Basketball_g01_c01.avi\n",
      "正在连接 172.16.0.13:5848... 已连接。\n",
      "已发出 Proxy 请求，正在等待回应... 200 OK\n",
      "长度： 287972 (281K) [video/x-msvideo]\n",
      "正在保存至: “data/video_sr/v_Basketball_g01_c01.avi”\n",
      "\n",
      "v_Basketball_g01_c0 100%[===================>] 281.22K  --.-KB/s    用时 0.04s   \n",
      "\n",
      "2023-03-06 18:49:25 (6.11 MB/s) - 已保存 “data/video_sr/v_Basketball_g01_c01.avi” [287972/287972])\n",
      "\n"
     ]
    }
   ],
   "source": [
    "!wget https://download.openmmlab.com/mmediting/resources/input/video_restoration/QUuC4vJs_000084_000094_400x320.mp4 -P data/video_sr\n",
    "\n",
    "!wget https://download.openmmlab.com/mmediting/resources/input/video_restoration/v_Basketball_g01_c01.avi -P data/video_sr"
   ]
  },
  {
   "cell_type": "markdown",
   "id": "60402fa0-6047-485c-8fee-f131de469f8f",
   "metadata": {},
   "source": [
    "## 创建目录"
   ]
  },
  {
   "cell_type": "code",
   "execution_count": 2,
   "id": "ca1a696f-7f13-4e01-a598-0a7e2ff1c055",
   "metadata": {},
   "outputs": [],
   "source": [
    "!mkdir -p resources/input/translation\n",
    "!mkdir -p resources/output/translation"
   ]
  },
  {
   "cell_type": "markdown",
   "id": "0a9f4c78-da5f-4998-b16e-2589c1ff8f52",
   "metadata": {},
   "source": [
    "## 下载图片"
   ]
  },
  {
   "cell_type": "code",
   "execution_count": 4,
   "id": "6089e79b-a9dd-4af8-8ac1-80ea5a1342d3",
   "metadata": {},
   "outputs": [
    {
     "name": "stdout",
     "output_type": "stream",
     "text": [
      "all inference resources:\n",
      "Matting\n",
      "https://download.openmmlab.com/mmediting/resources/input/matting/GT05.jpg\n",
      "https://download.openmmlab.com/mmediting/resources/input/matting/GT05_trimap.jpg\n",
      "https://download.openmmlab.com/mmediting/resources/input/matting/readme.md\n",
      "Inpainting\n",
      "https://download.openmmlab.com/mmediting/resources/input/inpainting/bbox_mask.png\n",
      "https://download.openmmlab.com/mmediting/resources/input/inpainting/celeba_test.png\n",
      "https://download.openmmlab.com/mmediting/resources/input/inpainting/readme.md\n",
      "Image Super-Resolution\n",
      "https://download.openmmlab.com/mmediting/resources/input/restoration/000001.png\n",
      "https://download.openmmlab.com/mmediting/resources/input/restoration/0901x2.png\n",
      "https://download.openmmlab.com/mmediting/resources/input/restoration/readme.md\n",
      "Image2Image Translation\n",
      "https://download.openmmlab.com/mmediting/resources/input/translation/gt_mask_0.png\n",
      "https://download.openmmlab.com/mmediting/resources/input/translation/readme.md\n",
      "Video Interpolation\n",
      "https://download.openmmlab.com/mmediting/resources/input/video_interpolation/b-3LLDhc4EU_000000_000010.mp4\n",
      "https://download.openmmlab.com/mmediting/resources/input/video_interpolation/readme.md\n",
      "Video Super-Resolution\n",
      "https://download.openmmlab.com/mmediting/resources/input/video_restoration/QUuC4vJs_000084_000094_400x320.mp4\n",
      "https://download.openmmlab.com/mmediting/resources/input/video_restoration/readme.md\n",
      "https://download.openmmlab.com/mmediting/resources/input/video_restoration/v_Basketball_g01_c01.avi\n"
     ]
    }
   ],
   "source": [
    "# see all resources\n",
    "!python demo/download_inference_resources.py --print-all"
   ]
  },
  {
   "cell_type": "markdown",
   "id": "246b4d48-0939-4873-a5f1-e9cbd37e7abb",
   "metadata": {},
   "source": [
    "## 查看所有任务类型"
   ]
  },
  {
   "cell_type": "code",
   "execution_count": 5,
   "id": "70a8396a-6d57-423f-baf4-7ba2a3c4c3aa",
   "metadata": {},
   "outputs": [
    {
     "name": "stdout",
     "output_type": "stream",
     "text": [
      "all task type:\n",
      "Matting\n",
      "Inpainting\n",
      "Image Super-Resolution\n",
      "Image2Image Translation\n",
      "Video Interpolation\n",
      "Video Super-Resolution\n"
     ]
    }
   ],
   "source": [
    "!python demo/download_inference_resources.py --print-task-type"
   ]
  },
  {
   "cell_type": "markdown",
   "id": "b3a19e3e-826a-4467-a2a4-4b546cbbb84b",
   "metadata": {},
   "source": [
    "## 查看指定任务的样例数据"
   ]
  },
  {
   "cell_type": "code",
   "execution_count": 7,
   "id": "94f84e61-9fe3-4403-ac2f-6859d616c588",
   "metadata": {},
   "outputs": [
    {
     "name": "stdout",
     "output_type": "stream",
     "text": [
      "RESOURCES of task Inpainting:\n",
      "https://download.openmmlab.com/mmediting/resources/input/inpainting/bbox_mask.png\n",
      "https://download.openmmlab.com/mmediting/resources/input/inpainting/celeba_test.png\n",
      "https://download.openmmlab.com/mmediting/resources/input/inpainting/readme.md\n"
     ]
    }
   ],
   "source": [
    "!python demo/download_inference_resources.py --print-task 'Inpainting'"
   ]
  },
  {
   "cell_type": "markdown",
   "id": "73fb625e-2b96-4c9d-bc60-ca7e31ab6ee4",
   "metadata": {},
   "source": [
    "## 下载指定任务的样例数据"
   ]
  },
  {
   "cell_type": "code",
   "execution_count": 12,
   "id": "f24a117d-6f7f-462d-817a-a7459eed932f",
   "metadata": {},
   "outputs": [
    {
     "name": "stdout",
     "output_type": "stream",
     "text": [
      "Traceback (most recent call last):\n",
      "  File \"/environment/miniconda3/lib/python3.7/site-packages/urllib3/connectionpool.py\", line 667, in urlopen\n",
      "    self._prepare_proxy(conn)\n",
      "  File \"/environment/miniconda3/lib/python3.7/site-packages/urllib3/connectionpool.py\", line 932, in _prepare_proxy\n",
      "    conn.connect()\n",
      "  File \"/environment/miniconda3/lib/python3.7/site-packages/urllib3/connection.py\", line 371, in connect\n",
      "    ssl_context=context,\n",
      "  File \"/environment/miniconda3/lib/python3.7/site-packages/urllib3/util/ssl_.py\", line 386, in ssl_wrap_socket\n",
      "    return context.wrap_socket(sock, server_hostname=server_hostname)\n",
      "  File \"/environment/miniconda3/lib/python3.7/ssl.py\", line 423, in wrap_socket\n",
      "    session=session\n",
      "  File \"/environment/miniconda3/lib/python3.7/ssl.py\", line 870, in _create\n",
      "    self.do_handshake()\n",
      "  File \"/environment/miniconda3/lib/python3.7/ssl.py\", line 1139, in do_handshake\n",
      "    self._sslobj.do_handshake()\n",
      "OSError: [Errno 0] Error\n",
      "\n",
      "During handling of the above exception, another exception occurred:\n",
      "\n",
      "Traceback (most recent call last):\n",
      "  File \"/environment/miniconda3/lib/python3.7/site-packages/requests/adapters.py\", line 449, in send\n",
      "    timeout=timeout\n",
      "  File \"/environment/miniconda3/lib/python3.7/site-packages/urllib3/connectionpool.py\", line 727, in urlopen\n",
      "    method, url, error=e, _pool=self, _stacktrace=sys.exc_info()[2]\n",
      "  File \"/environment/miniconda3/lib/python3.7/site-packages/urllib3/util/retry.py\", line 446, in increment\n",
      "    raise MaxRetryError(_pool, url, error or ResponseError(cause))\n",
      "urllib3.exceptions.MaxRetryError: HTTPSConnectionPool(host='download.openmmlab.com', port=443): Max retries exceeded with url: /mmediting/resources/input/inpainting/bbox_mask.png (Caused by ProxyError('Cannot connect to proxy.', OSError(0, 'Error')))\n",
      "\n",
      "During handling of the above exception, another exception occurred:\n",
      "\n",
      "Traceback (most recent call last):\n",
      "  File \"demo/download_inference_resources.py\", line 107, in <module>\n",
      "    main()\n",
      "  File \"demo/download_inference_resources.py\", line 101, in main\n",
      "    response = requests.get(item)\n",
      "  File \"/environment/miniconda3/lib/python3.7/site-packages/requests/api.py\", line 76, in get\n",
      "    return request('get', url, params=params, **kwargs)\n",
      "  File \"/environment/miniconda3/lib/python3.7/site-packages/requests/api.py\", line 61, in request\n",
      "    return session.request(method=method, url=url, **kwargs)\n",
      "  File \"/environment/miniconda3/lib/python3.7/site-packages/requests/sessions.py\", line 530, in request\n",
      "    resp = self.send(prep, **send_kwargs)\n",
      "  File \"/environment/miniconda3/lib/python3.7/site-packages/requests/sessions.py\", line 643, in send\n",
      "    r = adapter.send(request, **kwargs)\n",
      "  File \"/environment/miniconda3/lib/python3.7/site-packages/requests/adapters.py\", line 510, in send\n",
      "    raise ProxyError(e, request=request)\n",
      "requests.exceptions.ProxyError: HTTPSConnectionPool(host='download.openmmlab.com', port=443): Max retries exceeded with url: /mmediting/resources/input/inpainting/bbox_mask.png (Caused by ProxyError('Cannot connect to proxy.', OSError(0, 'Error')))\n"
     ]
    }
   ],
   "source": [
    "!python demo/download_inference_resources.py --task 'Inpainting'"
   ]
  },
  {
   "cell_type": "code",
   "execution_count": null,
   "id": "1b71ea81-3226-437d-b0e1-5bcaa2618f17",
   "metadata": {},
   "outputs": [],
   "source": []
  },
  {
   "cell_type": "markdown",
   "id": "5dbe152d-a6a0-4fd8-a786-af0dc630b90b",
   "metadata": {},
   "source": [
    "## 下载所有样例数据至`resources`文件夹"
   ]
  },
  {
   "cell_type": "code",
   "execution_count": 10,
   "id": "2588c292-6185-4f72-8b5b-2df6c62a36db",
   "metadata": {},
   "outputs": [],
   "source": [
    "!unset http_proxy \n",
    "!unset https_proxy"
   ]
  },
  {
   "cell_type": "code",
   "execution_count": 13,
   "id": "0bae1bec-aedf-4269-8beb-8746e2d8dfdb",
   "metadata": {},
   "outputs": [
    {
     "name": "stdout",
     "output_type": "stream",
     "text": [
      "Download finished: https://download.openmmlab.com/mmediting/resources/input/matting/GT05.jpg to demo/../resources/input/matting/GT05.jpg\n",
      "Download finished: https://download.openmmlab.com/mmediting/resources/input/matting/GT05_trimap.jpg to demo/../resources/input/matting/GT05_trimap.jpg\n",
      "Traceback (most recent call last):\n",
      "  File \"/environment/miniconda3/lib/python3.7/site-packages/urllib3/connectionpool.py\", line 667, in urlopen\n",
      "    self._prepare_proxy(conn)\n",
      "  File \"/environment/miniconda3/lib/python3.7/site-packages/urllib3/connectionpool.py\", line 932, in _prepare_proxy\n",
      "    conn.connect()\n",
      "  File \"/environment/miniconda3/lib/python3.7/site-packages/urllib3/connection.py\", line 371, in connect\n",
      "    ssl_context=context,\n",
      "  File \"/environment/miniconda3/lib/python3.7/site-packages/urllib3/util/ssl_.py\", line 386, in ssl_wrap_socket\n",
      "    return context.wrap_socket(sock, server_hostname=server_hostname)\n",
      "  File \"/environment/miniconda3/lib/python3.7/ssl.py\", line 423, in wrap_socket\n",
      "    session=session\n",
      "  File \"/environment/miniconda3/lib/python3.7/ssl.py\", line 870, in _create\n",
      "    self.do_handshake()\n",
      "  File \"/environment/miniconda3/lib/python3.7/ssl.py\", line 1139, in do_handshake\n",
      "    self._sslobj.do_handshake()\n",
      "OSError: [Errno 0] Error\n",
      "\n",
      "During handling of the above exception, another exception occurred:\n",
      "\n",
      "Traceback (most recent call last):\n",
      "  File \"/environment/miniconda3/lib/python3.7/site-packages/requests/adapters.py\", line 449, in send\n",
      "    timeout=timeout\n",
      "  File \"/environment/miniconda3/lib/python3.7/site-packages/urllib3/connectionpool.py\", line 727, in urlopen\n",
      "    method, url, error=e, _pool=self, _stacktrace=sys.exc_info()[2]\n",
      "  File \"/environment/miniconda3/lib/python3.7/site-packages/urllib3/util/retry.py\", line 446, in increment\n",
      "    raise MaxRetryError(_pool, url, error or ResponseError(cause))\n",
      "urllib3.exceptions.MaxRetryError: HTTPSConnectionPool(host='download.openmmlab.com', port=443): Max retries exceeded with url: /mmediting/resources/input/matting/readme.md (Caused by ProxyError('Cannot connect to proxy.', OSError(0, 'Error')))\n",
      "\n",
      "During handling of the above exception, another exception occurred:\n",
      "\n",
      "Traceback (most recent call last):\n",
      "  File \"demo/download_inference_resources.py\", line 107, in <module>\n",
      "    main()\n",
      "  File \"demo/download_inference_resources.py\", line 101, in main\n",
      "    response = requests.get(item)\n",
      "  File \"/environment/miniconda3/lib/python3.7/site-packages/requests/api.py\", line 76, in get\n",
      "    return request('get', url, params=params, **kwargs)\n",
      "  File \"/environment/miniconda3/lib/python3.7/site-packages/requests/api.py\", line 61, in request\n",
      "    return session.request(method=method, url=url, **kwargs)\n",
      "  File \"/environment/miniconda3/lib/python3.7/site-packages/requests/sessions.py\", line 530, in request\n",
      "    resp = self.send(prep, **send_kwargs)\n",
      "  File \"/environment/miniconda3/lib/python3.7/site-packages/requests/sessions.py\", line 643, in send\n",
      "    r = adapter.send(request, **kwargs)\n",
      "  File \"/environment/miniconda3/lib/python3.7/site-packages/requests/adapters.py\", line 510, in send\n",
      "    raise ProxyError(e, request=request)\n",
      "requests.exceptions.ProxyError: HTTPSConnectionPool(host='download.openmmlab.com', port=443): Max retries exceeded with url: /mmediting/resources/input/matting/readme.md (Caused by ProxyError('Cannot connect to proxy.', OSError(0, 'Error')))\n"
     ]
    }
   ],
   "source": [
    "!python demo/download_inference_resources.py --root-dir '../resources'"
   ]
  },
  {
   "cell_type": "code",
   "execution_count": null,
   "id": "a7513414-5114-4b73-9b5c-ae4491d29493",
   "metadata": {},
   "outputs": [],
   "source": []
  },
  {
   "cell_type": "code",
   "execution_count": null,
   "id": "7b5892ce-6c5c-4ec7-a732-504c93d47885",
   "metadata": {},
   "outputs": [],
   "source": [
    "# download all resouces to default dir '../resources'\n",
    "\n",
    "\n",
    "# download to the directory you want\n"
   ]
  }
 ],
 "metadata": {
  "kernelspec": {
   "display_name": "Python 3 (ipykernel)",
   "language": "python",
   "name": "python3"
  },
  "language_info": {
   "codemirror_mode": {
    "name": "ipython",
    "version": 3
   },
   "file_extension": ".py",
   "mimetype": "text/x-python",
   "name": "python",
   "nbconvert_exporter": "python",
   "pygments_lexer": "ipython3",
   "version": "3.7.10"
  }
 },
 "nbformat": 4,
 "nbformat_minor": 5
}
