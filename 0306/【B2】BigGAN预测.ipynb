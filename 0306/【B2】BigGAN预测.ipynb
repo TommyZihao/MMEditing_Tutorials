{
 "cells": [
  {
   "cell_type": "markdown",
   "id": "886891ba-4e72-4235-9425-f0f9ed8aa771",
   "metadata": {},
   "source": [
    "# BigGAN预测\n",
    "\n",
    "同济子豪兄 2023-3-6"
   ]
  },
  {
   "cell_type": "markdown",
   "id": "4ad02bd0-c05e-4d9e-8369-553f05472780",
   "metadata": {
    "tags": []
   },
   "source": [
    "## 进入 MMEditing 主目录"
   ]
  },
  {
   "cell_type": "code",
   "execution_count": 1,
   "id": "904cf5f9-4e39-41b8-9413-1dca0ded96ea",
   "metadata": {},
   "outputs": [],
   "source": [
    "import os\n",
    "os.chdir('mmediting')"
   ]
  },
  {
   "cell_type": "markdown",
   "id": "6ba53ba2-e1c5-4976-9563-a509f9d6b8d7",
   "metadata": {},
   "source": [
    "## 导入工具包"
   ]
  },
  {
   "cell_type": "code",
   "execution_count": 2,
   "id": "87927a4e-67d1-4b59-87d4-943015e2b05a",
   "metadata": {},
   "outputs": [],
   "source": [
    "from mmedit.edit import MMEdit\n",
    "from PIL import Image\n",
    "\n",
    "import matplotlib.pyplot as plt\n",
    "%matplotlib inline"
   ]
  },
  {
   "cell_type": "markdown",
   "id": "7b9b746c-9ac2-417e-a20a-c98483de5bf7",
   "metadata": {
    "tags": []
   },
   "source": [
    "## 指定输出图像路径"
   ]
  },
  {
   "cell_type": "code",
   "execution_count": 3,
   "id": "f21fe1e1-fcd5-4027-8408-fdadb7a9cbbd",
   "metadata": {},
   "outputs": [],
   "source": [
    "output_path = 'outputs/tutorial_biggan.jpg'"
   ]
  },
  {
   "cell_type": "markdown",
   "id": "8f89eb48-7210-424b-aae1-3ef06f1d62ed",
   "metadata": {},
   "source": [
    "## MMEdit实例"
   ]
  },
  {
   "cell_type": "code",
   "execution_count": 4,
   "id": "98dabaf9-2b30-4afb-ace9-5aeac9c55024",
   "metadata": {},
   "outputs": [
    {
     "name": "stderr",
     "output_type": "stream",
     "text": [
      "/environment/miniconda3/lib/python3.7/site-packages/mmcv/cnn/bricks/conv_module.py:154: UserWarning: Unnecessary conv bias before batch/instance norm\n",
      "  'Unnecessary conv bias before batch/instance norm')\n"
     ]
    },
    {
     "name": "stdout",
     "output_type": "stream",
     "text": [
      "Loads checkpoint by http backend from path: https://download.openmmlab.com/mmediting/biggan/biggan_imagenet1k_128x128_b32x8_best_is_iter_1328000_20211111_122911-28c688bc.pth\n",
      "03/06 18:18:23 - mmengine - \u001b[5m\u001b[4m\u001b[33mWARNING\u001b[0m - Failed to search registry with scope \"mmedit\" in the \"Collate Functions\" registry tree. As a workaround, the current \"Collate Functions\" registry in \"mmengine\" is used to build instance. This may cause unexpected failure when running the built modules. Please check whether \"mmedit\" is a correct scope, or whether the registry is initialized.\n"
     ]
    },
    {
     "name": "stderr",
     "output_type": "stream",
     "text": [
      "/environment/miniconda3/lib/python3.7/site-packages/mmengine/visualization/visualizer.py:166: UserWarning: `Visualizer` backend is not initialized because save_dir is None.\n",
      "  warnings.warn('`Visualizer` backend is not initialized '\n"
     ]
    }
   ],
   "source": [
    "editor = MMEdit('biggan', model_setting=1) "
   ]
  },
  {
   "cell_type": "markdown",
   "id": "6ef8b8ce-0747-458b-8302-e19d0d680438",
   "metadata": {},
   "source": [
    "## 执行预测"
   ]
  },
  {
   "cell_type": "code",
   "execution_count": 5,
   "id": "bd78eafb-3f70-4af6-9378-b0ab61df96fc",
   "metadata": {},
   "outputs": [],
   "source": [
    "results = editor.infer(label=1, result_out_dir=output_path)"
   ]
  },
  {
   "cell_type": "code",
   "execution_count": null,
   "id": "bd3ec8b4-ba7d-4169-b836-39cb4d6ca5ac",
   "metadata": {},
   "outputs": [],
   "source": []
  }
 ],
 "metadata": {
  "kernelspec": {
   "display_name": "Python 3 (ipykernel)",
   "language": "python",
   "name": "python3"
  },
  "language_info": {
   "codemirror_mode": {
    "name": "ipython",
    "version": 3
   },
   "file_extension": ".py",
   "mimetype": "text/x-python",
   "name": "python",
   "nbconvert_exporter": "python",
   "pygments_lexer": "ipython3",
   "version": "3.7.10"
  }
 },
 "nbformat": 4,
 "nbformat_minor": 5
}
