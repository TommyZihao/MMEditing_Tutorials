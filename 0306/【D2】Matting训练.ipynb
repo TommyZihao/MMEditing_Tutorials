{
 "cells": [
  {
   "cell_type": "markdown",
   "id": "8eaa066b-6c50-4913-b6e8-f31df4266c09",
   "metadata": {},
   "source": [
    "# Matting训练\n",
    "\n",
    "同济子豪兄 2023-2-27"
   ]
  },
  {
   "cell_type": "markdown",
   "id": "1d66d724-81a3-49f4-a3f7-aafddc6fc531",
   "metadata": {},
   "source": [
    "## 进入 MMEditing 主目录"
   ]
  },
  {
   "cell_type": "code",
   "execution_count": 1,
   "id": "13cfae9d-4d69-4e8a-9206-ea6ff179388c",
   "metadata": {},
   "outputs": [],
   "source": [
    "import os\n",
    "os.chdir('mmediting')"
   ]
  },
  {
   "cell_type": "markdown",
   "id": "ea5ec5c6-dd4f-4dab-b610-48d7ef0d0fe2",
   "metadata": {},
   "source": [
    "## 导入工具包"
   ]
  },
  {
   "cell_type": "code",
   "execution_count": 2,
   "id": "d3856e13-0099-4c32-bc26-2dd1be7937f1",
   "metadata": {},
   "outputs": [],
   "source": [
    "from tqdm import tqdm\n",
    "import mmengine\n",
    "from mmengine.runner import set_random_seed"
   ]
  },
  {
   "cell_type": "markdown",
   "id": "2425c05e-5387-4bfe-9d66-18900801e28f",
   "metadata": {
    "tags": []
   },
   "source": [
    "## 下载matting数据集\n",
    "\n",
    "来源：alphamatting.com"
   ]
  },
  {
   "cell_type": "code",
   "execution_count": 4,
   "id": "2d71186d-37c0-40ee-a9ac-3662b5d7b91d",
   "metadata": {},
   "outputs": [],
   "source": [
    "# 创建文件夹\n",
    "!mkdir data/alphamatting"
   ]
  },
  {
   "cell_type": "code",
   "execution_count": 3,
   "id": "e806601d-211e-4926-a8d1-2067e21e3902",
   "metadata": {},
   "outputs": [
    {
     "name": "stdout",
     "output_type": "stream",
     "text": [
      "--2023-02-27 19:29:28--  https://zihao-openmmlab.obs.cn-east-3.myhuaweicloud.com/20230227-MMEditing/Matting_Dataset.zip\n",
      "正在连接 172.16.0.13:5848... 已连接。\n",
      "已发出 Proxy 请求，正在等待回应... 200 OK\n",
      "长度： 20866578 (20M) [application/zip]\n",
      "正在保存至: “data/alphamatting/Matting_Dataset.zip”\n",
      "\n",
      "Matting_Dataset.zip 100%[===================>]  19.90M  23.9MB/s    用时 0.8s    \n",
      "\n",
      "2023-02-27 19:29:29 (23.9 MB/s) - 已保存 “data/alphamatting/Matting_Dataset.zip” [20866578/20866578])\n",
      "\n"
     ]
    }
   ],
   "source": [
    "# 下载压缩包\n",
    "!wget https://zihao-openmmlab.obs.cn-east-3.myhuaweicloud.com/20230227-MMEditing/Matting_Dataset.zip -P data/alphamatting"
   ]
  },
  {
   "cell_type": "code",
   "execution_count": 4,
   "id": "d1ed1861-81f9-406b-9471-4ccccfaa812f",
   "metadata": {},
   "outputs": [],
   "source": [
    "# 解压\n",
    "!unzip -d data/alphamatting/ data/alphamatting/Matting_Dataset.zip >> /dev/null"
   ]
  },
  {
   "cell_type": "code",
   "execution_count": 5,
   "id": "0ff8b3ac-3398-4ef2-ae2f-5cc410369e4b",
   "metadata": {},
   "outputs": [],
   "source": [
    "# 删除压缩包\n",
    "!rm -rf data/alphamatting/Matting_Dataset.zip"
   ]
  },
  {
   "cell_type": "markdown",
   "id": "a3a39090-2c06-4e79-9987-20e3fb6141bb",
   "metadata": {},
   "source": [
    "## 创建训练集标注"
   ]
  },
  {
   "cell_type": "code",
   "execution_count": 3,
   "id": "f8b66922-baa2-4e48-91bf-fdf15294bf34",
   "metadata": {},
   "outputs": [
    {
     "name": "stderr",
     "output_type": "stream",
     "text": [
      "100%|██████████| 20/20 [00:00<00:00, 129254.36it/s]\n"
     ]
    }
   ],
   "source": [
    "num_file = 27\n",
    "num_training = 20  # use 20 samples for training, 7 for test\n",
    "\n",
    "training_ann = []\n",
    "for i in tqdm(range(num_training)):\n",
    "    ann = dict()\n",
    "    ann['merged_path'] = f'merged/GT{i+1:02d}.png'\n",
    "    ann['alpha_path'] = f'alpha/GT{i+1:02d}.png'\n",
    "    # since data from alphamatting.com is not composited, we use original image \n",
    "    # as fg and bg\n",
    "    ann['fg_path'] = ann['merged_path']\n",
    "    ann['bg_path'] = ann['merged_path']\n",
    "    training_ann.append(ann)\n",
    "\n",
    "mmengine.dump(training_ann, './data/alphamatting/training_list.json')"
   ]
  },
  {
   "cell_type": "markdown",
   "id": "c34a4870-9cdd-4c18-b37f-5b62c3eb3167",
   "metadata": {},
   "source": [
    "## 创建测试集标注"
   ]
  },
  {
   "cell_type": "code",
   "execution_count": 5,
   "id": "c3ca9015-0a75-44f9-a6a1-b2b8aafc909b",
   "metadata": {},
   "outputs": [
    {
     "name": "stderr",
     "output_type": "stream",
     "text": [
      "100%|██████████| 7/7 [00:00<00:00, 22812.84it/s]\n"
     ]
    }
   ],
   "source": [
    "num_trimap = 1\n",
    "test_ann = []\n",
    "for i in tqdm(range(num_training, num_file)):\n",
    "    for j in range(num_trimap):\n",
    "        ann = {}\n",
    "        ann['merged_path'] = f'merged/GT{i+1:02d}.png'\n",
    "        ann['trimap_path'] = f'trimap/Trimap{j+1}/GT{i+1:02d}.png'\n",
    "        ann['alpha_path'] = f'alpha/GT{i+1:02d}.png'\n",
    "        test_ann.append(ann)\n",
    "\n",
    "mmengine.dump(test_ann, './data/alphamatting/test_list.json')"
   ]
  },
  {
   "cell_type": "markdown",
   "id": "257a26f1-4976-470d-9066-409a1c5dc0c8",
   "metadata": {},
   "source": [
    "## config配置文件"
   ]
  },
  {
   "cell_type": "code",
   "execution_count": 3,
   "id": "42ec1f4b-c0a1-4fe7-872d-f5de280c6727",
   "metadata": {},
   "outputs": [],
   "source": [
    "from mmengine import Config\n",
    "cfg = Config.fromfile('./configs/indexnet/indexnet_mobv2_1xb16-78k_comp1k.py')"
   ]
  },
  {
   "cell_type": "code",
   "execution_count": 4,
   "id": "d7489d2e-4c65-4ae5-b47f-1f0cfc3afee3",
   "metadata": {},
   "outputs": [],
   "source": [
    "# print(cfg.pretty_text)"
   ]
  },
  {
   "cell_type": "code",
   "execution_count": 5,
   "id": "2db9a5c1-959e-4b40-b69a-ad8a75b7ede2",
   "metadata": {},
   "outputs": [],
   "source": [
    "# 训练集\n",
    "cfg.dataset_type = 'AdobeComp1kDataset'\n",
    "cfg.train_dataloader.dataset.type = cfg.dataset_type\n",
    "cfg.train_dataloader.dataset.ann_file = './data/alphamatting/training_list.json'\n",
    "cfg.train_dataloader.dataset.data_prefix = dict(img_path = './data/alphamatting/')\n",
    "\n",
    "# 测试集\n",
    "cfg.val_dataloader.dataset.type = cfg.dataset_type\n",
    "cfg.val_dataloader.dataset.ann_file = './data/alphamatting/test_list.json'\n",
    "cfg.val_dataloader.dataset.data_prefix = dict(img_path = './data/alphamatting/')\n",
    "\n",
    "# 测试集\n",
    "cfg.test_dataloader = cfg.val_dataloader\n",
    "\n",
    "# 预训练模型\n",
    "# cfg.model.pretrained = None\n",
    "cfg.load_from = './checkpoint/indexnet_mobv2_1x16_78k_comp1k_SAD-45.6_20200618_173817-26dd258d.pth'\n",
    "\n",
    "# 保存模型和日志的目录\n",
    "cfg.work_dir = './tutorial_exps/indexnet'\n",
    "\n",
    "# Use smaller batch size for training\n",
    "# cfg.data.train_dataloader.samples_per_gpu = 4\n",
    "cfg.train_dataloader.batch_size = 4\n",
    "# cfg.data.workers_per_gpu = 1\n",
    "\n",
    "# 初始学习率（batch size为16时的学习率）\n",
    "# cfg.optimizers.lr = cfg.optimizers.lr / 4\n",
    "\n",
    "cfg.total_iters = 50\n",
    "cfg.lr_config = None\n",
    "\n",
    "# # 每隔多少次迭代，在测试集上评估模型性能\n",
    "# cfg.evaluation.interval = 20\n",
    "# # 每隔多少次迭代，保存模型权重文件\n",
    "# cfg.checkpoint_config.interval = 40\n",
    "# # 每隔多少次迭代，输出日志\n",
    "# cfg.log_config.interval = 5\n",
    "\n",
    "# 训练迭代次数\n",
    "cfg.train_cfg.max_iters = 200\n",
    "# 测试集上评估模型间隔\n",
    "cfg.train_cfg.val_interval = 20\n",
    "# 日志记录间隔\n",
    "cfg.default_hooks.logger.interval = 5\n",
    "# 模型权重保存间隔\n",
    "cfg.default_hooks.checkpoint.interval = 40\n",
    "\n",
    "# 随机数种子\n",
    "cfg.seed = 0\n",
    "set_random_seed(0, deterministic=False)\n",
    "cfg.gpus = 1"
   ]
  },
  {
   "cell_type": "markdown",
   "id": "dd7b1db8-792a-40f1-9ed1-1634c6e518fb",
   "metadata": {},
   "source": [
    "## 查看完整config配置文件"
   ]
  },
  {
   "cell_type": "code",
   "execution_count": 6,
   "id": "af245a22-eaaa-4000-89b8-08daa1700129",
   "metadata": {},
   "outputs": [],
   "source": [
    "# print(cfg.pretty_text)"
   ]
  },
  {
   "cell_type": "markdown",
   "id": "63f09983-beb5-4126-b991-45d48f9855ba",
   "metadata": {},
   "source": [
    "## 保存config配置文件"
   ]
  },
  {
   "cell_type": "code",
   "execution_count": 7,
   "id": "d9295578-e35e-409a-ac8b-caf86ed3b11c",
   "metadata": {},
   "outputs": [],
   "source": [
    "cfg.dump('new_cfg.py')"
   ]
  },
  {
   "cell_type": "markdown",
   "id": "35e9886f-94a0-4c5c-9137-80d54d1e403d",
   "metadata": {
    "id": "QWuH14LYF2gQ"
   },
   "source": [
    "## 准备训练"
   ]
  },
  {
   "cell_type": "code",
   "execution_count": 8,
   "id": "39bfbe0f-76c4-4620-838c-2d996b4689a5",
   "metadata": {
    "colab": {
     "base_uri": "https://localhost:8080/"
    },
    "id": "jYKoSfdMF12B",
    "outputId": "422219ca-d7a5-4890-f09f-88c959942e64",
    "tags": []
   },
   "outputs": [
    {
     "name": "stdout",
     "output_type": "stream",
     "text": [
      "02/27 21:25:24 - mmengine - \u001b[4m\u001b[37mINFO\u001b[0m - \n",
      "------------------------------------------------------------\n",
      "System environment:\n",
      "    sys.platform: linux\n",
      "    Python: 3.7.10 (default, Jun  4 2021, 14:48:32) [GCC 7.5.0]\n",
      "    CUDA available: True\n",
      "    numpy_random_seed: 209652396\n",
      "    GPU 0: NVIDIA GeForce RTX 3060\n",
      "    CUDA_HOME: /usr/local/cuda\n",
      "    NVCC: Cuda compilation tools, release 11.2, V11.2.152\n",
      "    GCC: gcc (Ubuntu 9.3.0-17ubuntu1~20.04) 9.3.0\n",
      "    PyTorch: 1.10.1+cu113\n",
      "    PyTorch compiling details: PyTorch built with:\n",
      "  - GCC 7.3\n",
      "  - C++ Version: 201402\n",
      "  - Intel(R) Math Kernel Library Version 2020.0.0 Product Build 20191122 for Intel(R) 64 architecture applications\n",
      "  - Intel(R) MKL-DNN v2.2.3 (Git Hash 7336ca9f055cf1bfa13efb658fe15dc9b41f0740)\n",
      "  - OpenMP 201511 (a.k.a. OpenMP 4.5)\n",
      "  - LAPACK is enabled (usually provided by MKL)\n",
      "  - NNPACK is enabled\n",
      "  - CPU capability usage: AVX2\n",
      "  - CUDA Runtime 11.3\n",
      "  - NVCC architecture flags: -gencode;arch=compute_37,code=sm_37;-gencode;arch=compute_50,code=sm_50;-gencode;arch=compute_60,code=sm_60;-gencode;arch=compute_70,code=sm_70;-gencode;arch=compute_75,code=sm_75;-gencode;arch=compute_80,code=sm_80;-gencode;arch=compute_86,code=sm_86\n",
      "  - CuDNN 8.2\n",
      "  - Magma 2.5.2\n",
      "  - Build settings: BLAS_INFO=mkl, BUILD_TYPE=Release, CUDA_VERSION=11.3, CUDNN_VERSION=8.2.0, CXX_COMPILER=/opt/rh/devtoolset-7/root/usr/bin/c++, CXX_FLAGS= -Wno-deprecated -fvisibility-inlines-hidden -DUSE_PTHREADPOOL -fopenmp -DNDEBUG -DUSE_KINETO -DUSE_FBGEMM -DUSE_QNNPACK -DUSE_PYTORCH_QNNPACK -DUSE_XNNPACK -DSYMBOLICATE_MOBILE_DEBUG_HANDLE -DEDGE_PROFILER_USE_KINETO -O2 -fPIC -Wno-narrowing -Wall -Wextra -Werror=return-type -Wno-missing-field-initializers -Wno-type-limits -Wno-array-bounds -Wno-unknown-pragmas -Wno-sign-compare -Wno-unused-parameter -Wno-unused-variable -Wno-unused-function -Wno-unused-result -Wno-unused-local-typedefs -Wno-strict-overflow -Wno-strict-aliasing -Wno-error=deprecated-declarations -Wno-stringop-overflow -Wno-psabi -Wno-error=pedantic -Wno-error=redundant-decls -Wno-error=old-style-cast -fdiagnostics-color=always -faligned-new -Wno-unused-but-set-variable -Wno-maybe-uninitialized -fno-math-errno -fno-trapping-math -Werror=format -Wno-stringop-overflow, LAPACK_INFO=mkl, PERF_WITH_AVX=1, PERF_WITH_AVX2=1, PERF_WITH_AVX512=1, TORCH_VERSION=1.10.1, USE_CUDA=ON, USE_CUDNN=ON, USE_EXCEPTION_PTR=1, USE_GFLAGS=OFF, USE_GLOG=OFF, USE_MKL=ON, USE_MKLDNN=ON, USE_MPI=OFF, USE_NCCL=ON, USE_NNPACK=ON, USE_OPENMP=ON, \n",
      "\n",
      "    TorchVision: 0.11.2+cu113\n",
      "    OpenCV: 4.5.4\n",
      "    MMEngine: 0.6.0\n",
      "\n",
      "Runtime environment:\n",
      "    cudnn_benchmark: False\n",
      "    mp_cfg: {'mp_start_method': 'fork', 'opencv_num_threads': 4}\n",
      "    dist_cfg: {'backend': 'nccl'}\n",
      "    seed: None\n",
      "    Distributed launcher: none\n",
      "    Distributed training: False\n",
      "    GPU number: 1\n",
      "------------------------------------------------------------\n",
      "\n",
      "02/27 21:25:24 - mmengine - \u001b[4m\u001b[37mINFO\u001b[0m - Config:\n",
      "dataset_type = 'AdobeComp1kDataset'\n",
      "data_root = 'data/adobe_composition-1k'\n",
      "train_dataloader = dict(\n",
      "    num_workers=8,\n",
      "    persistent_workers=False,\n",
      "    sampler=dict(type='InfiniteSampler', shuffle=True),\n",
      "    dataset=dict(\n",
      "        type='AdobeComp1kDataset',\n",
      "        data_root='data/adobe_composition-1k',\n",
      "        ann_file='./data/alphamatting/training_list.json',\n",
      "        test_mode=False,\n",
      "        pipeline=[\n",
      "            dict(\n",
      "                type='LoadImageFromFile', key='alpha', color_type='grayscale'),\n",
      "            dict(type='LoadImageFromFile', key='fg'),\n",
      "            dict(type='LoadImageFromFile', key='bg'),\n",
      "            dict(type='LoadImageFromFile', key='merged'),\n",
      "            dict(type='GenerateTrimapWithDistTransform', dist_thr=20),\n",
      "            dict(\n",
      "                type='CropAroundUnknown',\n",
      "                keys=['alpha', 'merged', 'fg', 'bg', 'trimap'],\n",
      "                crop_sizes=[320, 480, 640],\n",
      "                interpolations=[\n",
      "                    'bicubic', 'bicubic', 'bicubic', 'bicubic', 'nearest'\n",
      "                ]),\n",
      "            dict(\n",
      "                type='Resize',\n",
      "                keys=['trimap'],\n",
      "                scale=(320, 320),\n",
      "                keep_ratio=False,\n",
      "                interpolation='nearest'),\n",
      "            dict(\n",
      "                type='Resize',\n",
      "                keys=['alpha', 'merged', 'fg', 'bg'],\n",
      "                scale=(320, 320),\n",
      "                keep_ratio=False,\n",
      "                interpolation='bicubic'),\n",
      "            dict(type='Flip', keys=['alpha', 'merged', 'fg', 'bg', 'trimap']),\n",
      "            dict(type='PackEditInputs')\n",
      "        ],\n",
      "        data_prefix=dict(img_path='./data/alphamatting/')),\n",
      "    batch_size=4)\n",
      "val_dataloader = dict(\n",
      "    num_workers=4,\n",
      "    persistent_workers=False,\n",
      "    drop_last=False,\n",
      "    sampler=dict(type='DefaultSampler', shuffle=False),\n",
      "    dataset=dict(\n",
      "        type='AdobeComp1kDataset',\n",
      "        data_root='data/adobe_composition-1k',\n",
      "        ann_file='./data/alphamatting/test_list.json',\n",
      "        test_mode=True,\n",
      "        pipeline=[\n",
      "            dict(\n",
      "                type='LoadImageFromFile',\n",
      "                key='alpha',\n",
      "                color_type='grayscale',\n",
      "                save_original_img=True),\n",
      "            dict(\n",
      "                type='LoadImageFromFile',\n",
      "                key='trimap',\n",
      "                color_type='grayscale',\n",
      "                save_original_img=True),\n",
      "            dict(type='LoadImageFromFile', key='merged'),\n",
      "            dict(type='PackEditInputs')\n",
      "        ],\n",
      "        data_prefix=dict(img_path='./data/alphamatting/')),\n",
      "    batch_size=1)\n",
      "test_dataloader = dict(\n",
      "    num_workers=4,\n",
      "    persistent_workers=False,\n",
      "    drop_last=False,\n",
      "    sampler=dict(type='DefaultSampler', shuffle=False),\n",
      "    dataset=dict(\n",
      "        type='AdobeComp1kDataset',\n",
      "        data_root='data/adobe_composition-1k',\n",
      "        ann_file='./data/alphamatting/test_list.json',\n",
      "        test_mode=True,\n",
      "        pipeline=[\n",
      "            dict(\n",
      "                type='LoadImageFromFile',\n",
      "                key='alpha',\n",
      "                color_type='grayscale',\n",
      "                save_original_img=True),\n",
      "            dict(\n",
      "                type='LoadImageFromFile',\n",
      "                key='trimap',\n",
      "                color_type='grayscale',\n",
      "                save_original_img=True),\n",
      "            dict(type='LoadImageFromFile', key='merged'),\n",
      "            dict(type='PackEditInputs')\n",
      "        ],\n",
      "        data_prefix=dict(img_path='./data/alphamatting/')),\n",
      "    batch_size=1)\n",
      "val_evaluator = [\n",
      "    dict(type='SAD'),\n",
      "    dict(type='MattingMSE'),\n",
      "    dict(type='GradientError'),\n",
      "    dict(type='ConnectivityError')\n",
      "]\n",
      "test_evaluator = [\n",
      "    dict(type='SAD'),\n",
      "    dict(type='MattingMSE'),\n",
      "    dict(type='GradientError'),\n",
      "    dict(type='ConnectivityError')\n",
      "]\n",
      "default_scope = 'mmedit'\n",
      "save_dir = './work_dirs/'\n",
      "default_hooks = dict(\n",
      "    timer=dict(type='IterTimerHook'),\n",
      "    logger=dict(type='LoggerHook', interval=5),\n",
      "    param_scheduler=dict(type='ParamSchedulerHook'),\n",
      "    checkpoint=dict(\n",
      "        type='CheckpointHook',\n",
      "        interval=40,\n",
      "        by_epoch=False,\n",
      "        out_dir='./work_dirs/'),\n",
      "    sampler_seed=dict(type='DistSamplerSeedHook'))\n",
      "env_cfg = dict(\n",
      "    cudnn_benchmark=False,\n",
      "    mp_cfg=dict(mp_start_method='fork', opencv_num_threads=4),\n",
      "    dist_cfg=dict(backend='nccl'))\n",
      "vis_backends = [dict(type='LocalVisBackend')]\n",
      "visualizer = dict(\n",
      "    type='ConcatImageVisualizer',\n",
      "    vis_backends=[dict(type='LocalVisBackend')],\n",
      "    fn_key='trimap_path',\n",
      "    img_keys=['pred_alpha', 'trimap', 'gt_merged', 'gt_alpha'],\n",
      "    bgr2rgb=True)\n",
      "custom_hooks = [dict(type='BasicVisualizationHook', interval=2000)]\n",
      "log_level = 'INFO'\n",
      "log_processor = dict(type='LogProcessor', by_epoch=False)\n",
      "load_from = './checkpoint/indexnet_mobv2_1x16_78k_comp1k_SAD-45.6_20200618_173817-26dd258d.pth'\n",
      "resume = False\n",
      "experiment_name = 'indexnet_mobv2_1xb16-78k_comp1k'\n",
      "work_dir = './tutorial_exps/indexnet'\n",
      "model = dict(\n",
      "    type='IndexNet',\n",
      "    data_preprocessor=dict(\n",
      "        type='MattorPreprocessor',\n",
      "        mean=[123.675, 116.28, 103.53],\n",
      "        std=[58.395, 57.12, 57.375],\n",
      "        bgr_to_rgb=True,\n",
      "        proc_inputs='normalize',\n",
      "        proc_trimap='rescale_to_zero_one',\n",
      "        proc_gt='rescale_to_zero_one'),\n",
      "    backbone=dict(\n",
      "        type='SimpleEncoderDecoder',\n",
      "        encoder=dict(\n",
      "            type='IndexNetEncoder',\n",
      "            in_channels=4,\n",
      "            freeze_bn=True,\n",
      "            init_cfg=dict(\n",
      "                type='Pretrained',\n",
      "                checkpoint='open-mmlab://mmedit/mobilenet_v2')),\n",
      "        decoder=dict(type='IndexNetDecoder')),\n",
      "    loss_alpha=dict(type='CharbonnierLoss', loss_weight=0.5, sample_wise=True),\n",
      "    loss_comp=dict(\n",
      "        type='CharbonnierCompLoss', loss_weight=1.5, sample_wise=True),\n",
      "    test_cfg=dict(\n",
      "        resize_method='interp', resize_mode='bicubic', size_divisor=32))\n",
      "train_pipeline = [\n",
      "    dict(type='LoadImageFromFile', key='alpha', color_type='grayscale'),\n",
      "    dict(type='LoadImageFromFile', key='fg'),\n",
      "    dict(type='LoadImageFromFile', key='bg'),\n",
      "    dict(type='LoadImageFromFile', key='merged'),\n",
      "    dict(type='GenerateTrimapWithDistTransform', dist_thr=20),\n",
      "    dict(\n",
      "        type='CropAroundUnknown',\n",
      "        keys=['alpha', 'merged', 'fg', 'bg', 'trimap'],\n",
      "        crop_sizes=[320, 480, 640],\n",
      "        interpolations=['bicubic', 'bicubic', 'bicubic', 'bicubic',\n",
      "                        'nearest']),\n",
      "    dict(\n",
      "        type='Resize',\n",
      "        keys=['trimap'],\n",
      "        scale=(320, 320),\n",
      "        keep_ratio=False,\n",
      "        interpolation='nearest'),\n",
      "    dict(\n",
      "        type='Resize',\n",
      "        keys=['alpha', 'merged', 'fg', 'bg'],\n",
      "        scale=(320, 320),\n",
      "        keep_ratio=False,\n",
      "        interpolation='bicubic'),\n",
      "    dict(type='Flip', keys=['alpha', 'merged', 'fg', 'bg', 'trimap']),\n",
      "    dict(type='PackEditInputs')\n",
      "]\n",
      "test_pipeline = [\n",
      "    dict(\n",
      "        type='LoadImageFromFile',\n",
      "        key='alpha',\n",
      "        color_type='grayscale',\n",
      "        save_original_img=True),\n",
      "    dict(\n",
      "        type='LoadImageFromFile',\n",
      "        key='trimap',\n",
      "        color_type='grayscale',\n",
      "        save_original_img=True),\n",
      "    dict(type='LoadImageFromFile', key='merged'),\n",
      "    dict(type='PackEditInputs')\n",
      "]\n",
      "train_cfg = dict(type='IterBasedTrainLoop', max_iters=200, val_interval=20)\n",
      "val_cfg = dict(type='ValLoop')\n",
      "test_cfg = dict(type='TestLoop')\n",
      "optim_wrapper = dict(\n",
      "    type='OptimWrapper',\n",
      "    optimizer=dict(type='Adam', lr=0.01),\n",
      "    paramwise_cfg=dict(\n",
      "        custom_keys=dict({'encoder.layers': dict(lr_mult=0.01)})))\n",
      "param_scheduler = dict(\n",
      "    type='MultiStepLR', milestones=[52000, 67600], gamma=0.1, by_epoch=False)\n",
      "total_iters = 50\n",
      "lr_config = None\n",
      "seed = 0\n",
      "gpus = 1\n",
      "\n",
      "02/27 21:25:31 - mmengine - \u001b[4m\u001b[37mINFO\u001b[0m - Distributed training is not used, all SyncBatchNorm (SyncBN) layers in the model will be automatically reverted to BatchNormXd layers if they are used.\n",
      "02/27 21:25:31 - mmengine - \u001b[4m\u001b[37mINFO\u001b[0m - Hooks will be executed in the following order:\n",
      "before_run:\n",
      "(VERY_HIGH   ) RuntimeInfoHook                    \n",
      "(BELOW_NORMAL) LoggerHook                         \n",
      " -------------------- \n",
      "before_train:\n",
      "(VERY_HIGH   ) RuntimeInfoHook                    \n",
      "(NORMAL      ) IterTimerHook                      \n",
      "(VERY_LOW    ) CheckpointHook                     \n",
      " -------------------- \n",
      "before_train_epoch:\n",
      "(VERY_HIGH   ) RuntimeInfoHook                    \n",
      "(NORMAL      ) IterTimerHook                      \n",
      "(NORMAL      ) DistSamplerSeedHook                \n",
      " -------------------- \n",
      "before_train_iter:\n",
      "(VERY_HIGH   ) RuntimeInfoHook                    \n",
      "(NORMAL      ) IterTimerHook                      \n",
      " -------------------- \n",
      "after_train_iter:\n",
      "(VERY_HIGH   ) RuntimeInfoHook                    \n",
      "(NORMAL      ) IterTimerHook                      \n",
      "(NORMAL      ) BasicVisualizationHook             \n",
      "(BELOW_NORMAL) LoggerHook                         \n",
      "(LOW         ) ParamSchedulerHook                 \n",
      "(VERY_LOW    ) CheckpointHook                     \n",
      " -------------------- \n",
      "after_train_epoch:\n",
      "(NORMAL      ) IterTimerHook                      \n",
      "(LOW         ) ParamSchedulerHook                 \n",
      "(VERY_LOW    ) CheckpointHook                     \n",
      " -------------------- \n",
      "before_val_epoch:\n",
      "(NORMAL      ) IterTimerHook                      \n",
      " -------------------- \n",
      "before_val_iter:\n",
      "(NORMAL      ) IterTimerHook                      \n",
      " -------------------- \n",
      "after_val_iter:\n",
      "(NORMAL      ) IterTimerHook                      \n",
      "(NORMAL      ) BasicVisualizationHook             \n",
      "(BELOW_NORMAL) LoggerHook                         \n",
      " -------------------- \n",
      "after_val_epoch:\n",
      "(VERY_HIGH   ) RuntimeInfoHook                    \n",
      "(NORMAL      ) IterTimerHook                      \n",
      "(BELOW_NORMAL) LoggerHook                         \n",
      "(LOW         ) ParamSchedulerHook                 \n",
      "(VERY_LOW    ) CheckpointHook                     \n",
      " -------------------- \n",
      "before_test_epoch:\n",
      "(NORMAL      ) IterTimerHook                      \n",
      " -------------------- \n",
      "before_test_iter:\n",
      "(NORMAL      ) IterTimerHook                      \n",
      " -------------------- \n",
      "after_test_iter:\n",
      "(NORMAL      ) IterTimerHook                      \n",
      "(NORMAL      ) BasicVisualizationHook             \n",
      "(BELOW_NORMAL) LoggerHook                         \n",
      " -------------------- \n",
      "after_test_epoch:\n",
      "(VERY_HIGH   ) RuntimeInfoHook                    \n",
      "(NORMAL      ) IterTimerHook                      \n",
      "(BELOW_NORMAL) LoggerHook                         \n",
      " -------------------- \n",
      "after_run:\n",
      "(BELOW_NORMAL) LoggerHook                         \n",
      " -------------------- \n"
     ]
    }
   ],
   "source": [
    "from mmengine.runner import Runner\n",
    "from mmedit.utils import register_all_modules\n",
    "\n",
    "# register all modules in mmseg into the registries\n",
    "# do not init the default scope here because it will be init in the runner\n",
    "register_all_modules(init_default_scope=False)\n",
    "runner = Runner.from_cfg(cfg)"
   ]
  },
  {
   "cell_type": "markdown",
   "id": "0cb1869a-543c-44e3-9763-cbaee765694b",
   "metadata": {},
   "source": [
    "## 开始训练\n",
    "\n",
    "如果遇到报错`CUDA out of memeory`，重启实例或使用显存更高的实例即可。"
   ]
  },
  {
   "cell_type": "code",
   "execution_count": 9,
   "id": "ed46c968-1f4d-4825-a55c-016a3921422f",
   "metadata": {},
   "outputs": [
    {
     "ename": "FileNotFoundError",
     "evalue": "class `IterBasedTrainLoop` in mmengine/runner/loops.py: class `AdobeComp1kDataset` in mmedit/datasets/comp1k_dataset.py: [Errno 2] No such file or directory: 'data/adobe_composition-1k/./data/alphamatting/training_list.json'",
     "output_type": "error",
     "traceback": [
      "\u001b[0;31m---------------------------------------------------------------------------\u001b[0m",
      "\u001b[0;31mFileNotFoundError\u001b[0m                         Traceback (most recent call last)",
      "\u001b[0;32m/environment/miniconda3/lib/python3.7/site-packages/mmengine/registry/build_functions.py\u001b[0m in \u001b[0;36mbuild_from_cfg\u001b[0;34m(cfg, registry, default_args)\u001b[0m\n\u001b[1;32m    120\u001b[0m             \u001b[0;32melse\u001b[0m\u001b[0;34m:\u001b[0m\u001b[0;34m\u001b[0m\u001b[0;34m\u001b[0m\u001b[0m\n\u001b[0;32m--> 121\u001b[0;31m                 \u001b[0mobj\u001b[0m \u001b[0;34m=\u001b[0m \u001b[0mobj_cls\u001b[0m\u001b[0;34m(\u001b[0m\u001b[0;34m**\u001b[0m\u001b[0margs\u001b[0m\u001b[0;34m)\u001b[0m  \u001b[0;31m# type: ignore\u001b[0m\u001b[0;34m\u001b[0m\u001b[0;34m\u001b[0m\u001b[0m\n\u001b[0m\u001b[1;32m    122\u001b[0m \u001b[0;34m\u001b[0m\u001b[0m\n",
      "\u001b[0;32m/environment/miniconda3/lib/python3.7/site-packages/mmengine/dataset/base_dataset.py\u001b[0m in \u001b[0;36m__init__\u001b[0;34m(self, ann_file, metainfo, data_root, data_prefix, filter_cfg, indices, serialize_data, pipeline, test_mode, lazy_init, max_refetch)\u001b[0m\n\u001b[1;32m    246\u001b[0m         \u001b[0;32mif\u001b[0m \u001b[0;32mnot\u001b[0m \u001b[0mlazy_init\u001b[0m\u001b[0;34m:\u001b[0m\u001b[0;34m\u001b[0m\u001b[0;34m\u001b[0m\u001b[0m\n\u001b[0;32m--> 247\u001b[0;31m             \u001b[0mself\u001b[0m\u001b[0;34m.\u001b[0m\u001b[0mfull_init\u001b[0m\u001b[0;34m(\u001b[0m\u001b[0;34m)\u001b[0m\u001b[0;34m\u001b[0m\u001b[0;34m\u001b[0m\u001b[0m\n\u001b[0m\u001b[1;32m    248\u001b[0m \u001b[0;34m\u001b[0m\u001b[0m\n",
      "\u001b[0;32m/environment/miniconda3/lib/python3.7/site-packages/mmengine/dataset/base_dataset.py\u001b[0m in \u001b[0;36mfull_init\u001b[0;34m(self)\u001b[0m\n\u001b[1;32m    297\u001b[0m         \u001b[0;31m# load data information\u001b[0m\u001b[0;34m\u001b[0m\u001b[0;34m\u001b[0m\u001b[0;34m\u001b[0m\u001b[0m\n\u001b[0;32m--> 298\u001b[0;31m         \u001b[0mself\u001b[0m\u001b[0;34m.\u001b[0m\u001b[0mdata_list\u001b[0m \u001b[0;34m=\u001b[0m \u001b[0mself\u001b[0m\u001b[0;34m.\u001b[0m\u001b[0mload_data_list\u001b[0m\u001b[0;34m(\u001b[0m\u001b[0;34m)\u001b[0m\u001b[0;34m\u001b[0m\u001b[0;34m\u001b[0m\u001b[0m\n\u001b[0m\u001b[1;32m    299\u001b[0m         \u001b[0;31m# filter illegal data, such as data that has no annotations.\u001b[0m\u001b[0;34m\u001b[0m\u001b[0;34m\u001b[0m\u001b[0;34m\u001b[0m\u001b[0m\n",
      "\u001b[0;32m~/work/MMEditing教程/mmediting/mmedit/datasets/comp1k_dataset.py\u001b[0m in \u001b[0;36mload_data_list\u001b[0;34m(self)\u001b[0m\n\u001b[1;32m     85\u001b[0m         \u001b[0;31m# `self.root=None` or relative path if `self.root=/path/to/data/`.\u001b[0m\u001b[0;34m\u001b[0m\u001b[0;34m\u001b[0m\u001b[0;34m\u001b[0m\u001b[0m\n\u001b[0;32m---> 86\u001b[0;31m         \u001b[0mannotations\u001b[0m \u001b[0;34m=\u001b[0m \u001b[0mload\u001b[0m\u001b[0;34m(\u001b[0m\u001b[0mself\u001b[0m\u001b[0;34m.\u001b[0m\u001b[0mann_file\u001b[0m\u001b[0;34m)\u001b[0m\u001b[0;34m\u001b[0m\u001b[0;34m\u001b[0m\u001b[0m\n\u001b[0m\u001b[1;32m     87\u001b[0m         \u001b[0;32massert\u001b[0m \u001b[0mannotations\u001b[0m\u001b[0;34m,\u001b[0m \u001b[0;34mf'annotation file \"{self.ann_file}\" is empty.'\u001b[0m\u001b[0;34m\u001b[0m\u001b[0;34m\u001b[0m\u001b[0m\n",
      "\u001b[0;32m/environment/miniconda3/lib/python3.7/site-packages/mmengine/fileio/io.py\u001b[0m in \u001b[0;36mload\u001b[0;34m(file, file_format, file_client_args, backend_args, **kwargs)\u001b[0m\n\u001b[1;32m    851\u001b[0m         \u001b[0;32mif\u001b[0m \u001b[0mhandler\u001b[0m\u001b[0;34m.\u001b[0m\u001b[0mstr_like\u001b[0m\u001b[0;34m:\u001b[0m\u001b[0;34m\u001b[0m\u001b[0;34m\u001b[0m\u001b[0m\n\u001b[0;32m--> 852\u001b[0;31m             \u001b[0;32mwith\u001b[0m \u001b[0mStringIO\u001b[0m\u001b[0;34m(\u001b[0m\u001b[0mfile_backend\u001b[0m\u001b[0;34m.\u001b[0m\u001b[0mget_text\u001b[0m\u001b[0;34m(\u001b[0m\u001b[0mfile\u001b[0m\u001b[0;34m)\u001b[0m\u001b[0;34m)\u001b[0m \u001b[0;32mas\u001b[0m \u001b[0mf\u001b[0m\u001b[0;34m:\u001b[0m\u001b[0;34m\u001b[0m\u001b[0;34m\u001b[0m\u001b[0m\n\u001b[0m\u001b[1;32m    853\u001b[0m                 \u001b[0mobj\u001b[0m \u001b[0;34m=\u001b[0m \u001b[0mhandler\u001b[0m\u001b[0;34m.\u001b[0m\u001b[0mload_from_fileobj\u001b[0m\u001b[0;34m(\u001b[0m\u001b[0mf\u001b[0m\u001b[0;34m,\u001b[0m \u001b[0;34m**\u001b[0m\u001b[0mkwargs\u001b[0m\u001b[0;34m)\u001b[0m\u001b[0;34m\u001b[0m\u001b[0;34m\u001b[0m\u001b[0m\n",
      "\u001b[0;32m/environment/miniconda3/lib/python3.7/site-packages/mmengine/fileio/backends/local_backend.py\u001b[0m in \u001b[0;36mget_text\u001b[0;34m(self, filepath, encoding)\u001b[0m\n\u001b[1;32m     55\u001b[0m         \"\"\"\n\u001b[0;32m---> 56\u001b[0;31m         \u001b[0;32mwith\u001b[0m \u001b[0mopen\u001b[0m\u001b[0;34m(\u001b[0m\u001b[0mfilepath\u001b[0m\u001b[0;34m,\u001b[0m \u001b[0mencoding\u001b[0m\u001b[0;34m=\u001b[0m\u001b[0mencoding\u001b[0m\u001b[0;34m)\u001b[0m \u001b[0;32mas\u001b[0m \u001b[0mf\u001b[0m\u001b[0;34m:\u001b[0m\u001b[0;34m\u001b[0m\u001b[0;34m\u001b[0m\u001b[0m\n\u001b[0m\u001b[1;32m     57\u001b[0m             \u001b[0mtext\u001b[0m \u001b[0;34m=\u001b[0m \u001b[0mf\u001b[0m\u001b[0;34m.\u001b[0m\u001b[0mread\u001b[0m\u001b[0;34m(\u001b[0m\u001b[0;34m)\u001b[0m\u001b[0;34m\u001b[0m\u001b[0;34m\u001b[0m\u001b[0m\n",
      "\u001b[0;31mFileNotFoundError\u001b[0m: [Errno 2] No such file or directory: 'data/adobe_composition-1k/./data/alphamatting/training_list.json'",
      "\nDuring handling of the above exception, another exception occurred:\n",
      "\u001b[0;31mFileNotFoundError\u001b[0m                         Traceback (most recent call last)",
      "\u001b[0;32m/environment/miniconda3/lib/python3.7/site-packages/mmengine/registry/build_functions.py\u001b[0m in \u001b[0;36mbuild_from_cfg\u001b[0;34m(cfg, registry, default_args)\u001b[0m\n\u001b[1;32m    120\u001b[0m             \u001b[0;32melse\u001b[0m\u001b[0;34m:\u001b[0m\u001b[0;34m\u001b[0m\u001b[0;34m\u001b[0m\u001b[0m\n\u001b[0;32m--> 121\u001b[0;31m                 \u001b[0mobj\u001b[0m \u001b[0;34m=\u001b[0m \u001b[0mobj_cls\u001b[0m\u001b[0;34m(\u001b[0m\u001b[0;34m**\u001b[0m\u001b[0margs\u001b[0m\u001b[0;34m)\u001b[0m  \u001b[0;31m# type: ignore\u001b[0m\u001b[0;34m\u001b[0m\u001b[0;34m\u001b[0m\u001b[0m\n\u001b[0m\u001b[1;32m    122\u001b[0m \u001b[0;34m\u001b[0m\u001b[0m\n",
      "\u001b[0;32m/environment/miniconda3/lib/python3.7/site-packages/mmengine/runner/loops.py\u001b[0m in \u001b[0;36m__init__\u001b[0;34m(self, runner, dataloader, max_iters, val_begin, val_interval, dynamic_intervals)\u001b[0m\n\u001b[1;32m    209\u001b[0m             dynamic_intervals: Optional[List[Tuple[int, int]]] = None) -> None:\n\u001b[0;32m--> 210\u001b[0;31m         \u001b[0msuper\u001b[0m\u001b[0;34m(\u001b[0m\u001b[0;34m)\u001b[0m\u001b[0;34m.\u001b[0m\u001b[0m__init__\u001b[0m\u001b[0;34m(\u001b[0m\u001b[0mrunner\u001b[0m\u001b[0;34m,\u001b[0m \u001b[0mdataloader\u001b[0m\u001b[0;34m)\u001b[0m\u001b[0;34m\u001b[0m\u001b[0;34m\u001b[0m\u001b[0m\n\u001b[0m\u001b[1;32m    211\u001b[0m         \u001b[0mself\u001b[0m\u001b[0;34m.\u001b[0m\u001b[0m_max_iters\u001b[0m \u001b[0;34m=\u001b[0m \u001b[0mint\u001b[0m\u001b[0;34m(\u001b[0m\u001b[0mmax_iters\u001b[0m\u001b[0;34m)\u001b[0m\u001b[0;34m\u001b[0m\u001b[0;34m\u001b[0m\u001b[0m\n",
      "\u001b[0;32m/environment/miniconda3/lib/python3.7/site-packages/mmengine/runner/base_loop.py\u001b[0m in \u001b[0;36m__init__\u001b[0;34m(self, runner, dataloader)\u001b[0m\n\u001b[1;32m     26\u001b[0m             self.dataloader = runner.build_dataloader(\n\u001b[0;32m---> 27\u001b[0;31m                 dataloader, seed=runner.seed, diff_rank_seed=diff_rank_seed)\n\u001b[0m\u001b[1;32m     28\u001b[0m         \u001b[0;32melse\u001b[0m\u001b[0;34m:\u001b[0m\u001b[0;34m\u001b[0m\u001b[0;34m\u001b[0m\u001b[0m\n",
      "\u001b[0;32m/environment/miniconda3/lib/python3.7/site-packages/mmengine/runner/runner.py\u001b[0m in \u001b[0;36mbuild_dataloader\u001b[0;34m(dataloader, seed, diff_rank_seed)\u001b[0m\n\u001b[1;32m   1332\u001b[0m         \u001b[0;32mif\u001b[0m \u001b[0misinstance\u001b[0m\u001b[0;34m(\u001b[0m\u001b[0mdataset_cfg\u001b[0m\u001b[0;34m,\u001b[0m \u001b[0mdict\u001b[0m\u001b[0;34m)\u001b[0m\u001b[0;34m:\u001b[0m\u001b[0;34m\u001b[0m\u001b[0;34m\u001b[0m\u001b[0m\n\u001b[0;32m-> 1333\u001b[0;31m             \u001b[0mdataset\u001b[0m \u001b[0;34m=\u001b[0m \u001b[0mDATASETS\u001b[0m\u001b[0;34m.\u001b[0m\u001b[0mbuild\u001b[0m\u001b[0;34m(\u001b[0m\u001b[0mdataset_cfg\u001b[0m\u001b[0;34m)\u001b[0m\u001b[0;34m\u001b[0m\u001b[0;34m\u001b[0m\u001b[0m\n\u001b[0m\u001b[1;32m   1334\u001b[0m             \u001b[0;32mif\u001b[0m \u001b[0mhasattr\u001b[0m\u001b[0;34m(\u001b[0m\u001b[0mdataset\u001b[0m\u001b[0;34m,\u001b[0m \u001b[0;34m'full_init'\u001b[0m\u001b[0;34m)\u001b[0m\u001b[0;34m:\u001b[0m\u001b[0;34m\u001b[0m\u001b[0;34m\u001b[0m\u001b[0m\n",
      "\u001b[0;32m/environment/miniconda3/lib/python3.7/site-packages/mmengine/registry/registry.py\u001b[0m in \u001b[0;36mbuild\u001b[0;34m(self, cfg, *args, **kwargs)\u001b[0m\n\u001b[1;32m    547\u001b[0m         \"\"\"\n\u001b[0;32m--> 548\u001b[0;31m         \u001b[0;32mreturn\u001b[0m \u001b[0mself\u001b[0m\u001b[0;34m.\u001b[0m\u001b[0mbuild_func\u001b[0m\u001b[0;34m(\u001b[0m\u001b[0mcfg\u001b[0m\u001b[0;34m,\u001b[0m \u001b[0;34m*\u001b[0m\u001b[0margs\u001b[0m\u001b[0;34m,\u001b[0m \u001b[0;34m**\u001b[0m\u001b[0mkwargs\u001b[0m\u001b[0;34m,\u001b[0m \u001b[0mregistry\u001b[0m\u001b[0;34m=\u001b[0m\u001b[0mself\u001b[0m\u001b[0;34m)\u001b[0m\u001b[0;34m\u001b[0m\u001b[0;34m\u001b[0m\u001b[0m\n\u001b[0m\u001b[1;32m    549\u001b[0m \u001b[0;34m\u001b[0m\u001b[0m\n",
      "\u001b[0;32m/environment/miniconda3/lib/python3.7/site-packages/mmengine/registry/build_functions.py\u001b[0m in \u001b[0;36mbuild_from_cfg\u001b[0;34m(cfg, registry, default_args)\u001b[0m\n\u001b[1;32m    135\u001b[0m             raise type(e)(\n\u001b[0;32m--> 136\u001b[0;31m                 \u001b[0;34mf'class `{obj_cls.__name__}` in '\u001b[0m  \u001b[0;31m# type: ignore\u001b[0m\u001b[0;34m\u001b[0m\u001b[0;34m\u001b[0m\u001b[0m\n\u001b[0m\u001b[1;32m    137\u001b[0m                 f'{cls_location}.py: {e}')\n",
      "\u001b[0;31mFileNotFoundError\u001b[0m: class `AdobeComp1kDataset` in mmedit/datasets/comp1k_dataset.py: [Errno 2] No such file or directory: 'data/adobe_composition-1k/./data/alphamatting/training_list.json'",
      "\nDuring handling of the above exception, another exception occurred:\n",
      "\u001b[0;31mFileNotFoundError\u001b[0m                         Traceback (most recent call last)",
      "\u001b[0;32m/tmp/ipykernel_21353/3630031848.py\u001b[0m in \u001b[0;36m<module>\u001b[0;34m\u001b[0m\n\u001b[0;32m----> 1\u001b[0;31m \u001b[0mrunner\u001b[0m\u001b[0;34m.\u001b[0m\u001b[0mtrain\u001b[0m\u001b[0;34m(\u001b[0m\u001b[0;34m)\u001b[0m\u001b[0;34m\u001b[0m\u001b[0;34m\u001b[0m\u001b[0m\n\u001b[0m",
      "\u001b[0;32m/environment/miniconda3/lib/python3.7/site-packages/mmengine/runner/runner.py\u001b[0m in \u001b[0;36mtrain\u001b[0;34m(self)\u001b[0m\n\u001b[1;32m   1655\u001b[0m \u001b[0;34m\u001b[0m\u001b[0m\n\u001b[1;32m   1656\u001b[0m         self._train_loop = self.build_train_loop(\n\u001b[0;32m-> 1657\u001b[0;31m             self._train_loop)  # type: ignore\n\u001b[0m\u001b[1;32m   1658\u001b[0m \u001b[0;34m\u001b[0m\u001b[0m\n\u001b[1;32m   1659\u001b[0m         \u001b[0;31m# `build_optimizer` should be called before `build_param_scheduler`\u001b[0m\u001b[0;34m\u001b[0m\u001b[0;34m\u001b[0m\u001b[0;34m\u001b[0m\u001b[0m\n",
      "\u001b[0;32m/environment/miniconda3/lib/python3.7/site-packages/mmengine/runner/runner.py\u001b[0m in \u001b[0;36mbuild_train_loop\u001b[0;34m(self, loop)\u001b[0m\n\u001b[1;32m   1449\u001b[0m                 \u001b[0mloop_cfg\u001b[0m\u001b[0;34m,\u001b[0m\u001b[0;34m\u001b[0m\u001b[0;34m\u001b[0m\u001b[0m\n\u001b[1;32m   1450\u001b[0m                 default_args=dict(\n\u001b[0;32m-> 1451\u001b[0;31m                     runner=self, dataloader=self._train_dataloader))\n\u001b[0m\u001b[1;32m   1452\u001b[0m         \u001b[0;32melse\u001b[0m\u001b[0;34m:\u001b[0m\u001b[0;34m\u001b[0m\u001b[0;34m\u001b[0m\u001b[0m\n\u001b[1;32m   1453\u001b[0m             \u001b[0mby_epoch\u001b[0m \u001b[0;34m=\u001b[0m \u001b[0mloop_cfg\u001b[0m\u001b[0;34m.\u001b[0m\u001b[0mpop\u001b[0m\u001b[0;34m(\u001b[0m\u001b[0;34m'by_epoch'\u001b[0m\u001b[0;34m)\u001b[0m\u001b[0;34m\u001b[0m\u001b[0;34m\u001b[0m\u001b[0m\n",
      "\u001b[0;32m/environment/miniconda3/lib/python3.7/site-packages/mmengine/registry/registry.py\u001b[0m in \u001b[0;36mbuild\u001b[0;34m(self, cfg, *args, **kwargs)\u001b[0m\n\u001b[1;32m    546\u001b[0m             \u001b[0;34m>>\u001b[0m\u001b[0;34m>\u001b[0m \u001b[0mmodel\u001b[0m \u001b[0;34m=\u001b[0m \u001b[0mMODELS\u001b[0m\u001b[0;34m.\u001b[0m\u001b[0mbuild\u001b[0m\u001b[0;34m(\u001b[0m\u001b[0mcfg\u001b[0m\u001b[0;34m)\u001b[0m\u001b[0;34m\u001b[0m\u001b[0;34m\u001b[0m\u001b[0m\n\u001b[1;32m    547\u001b[0m         \"\"\"\n\u001b[0;32m--> 548\u001b[0;31m         \u001b[0;32mreturn\u001b[0m \u001b[0mself\u001b[0m\u001b[0;34m.\u001b[0m\u001b[0mbuild_func\u001b[0m\u001b[0;34m(\u001b[0m\u001b[0mcfg\u001b[0m\u001b[0;34m,\u001b[0m \u001b[0;34m*\u001b[0m\u001b[0margs\u001b[0m\u001b[0;34m,\u001b[0m \u001b[0;34m**\u001b[0m\u001b[0mkwargs\u001b[0m\u001b[0;34m,\u001b[0m \u001b[0mregistry\u001b[0m\u001b[0;34m=\u001b[0m\u001b[0mself\u001b[0m\u001b[0;34m)\u001b[0m\u001b[0;34m\u001b[0m\u001b[0;34m\u001b[0m\u001b[0m\n\u001b[0m\u001b[1;32m    549\u001b[0m \u001b[0;34m\u001b[0m\u001b[0m\n\u001b[1;32m    550\u001b[0m     \u001b[0;32mdef\u001b[0m \u001b[0m_add_child\u001b[0m\u001b[0;34m(\u001b[0m\u001b[0mself\u001b[0m\u001b[0;34m,\u001b[0m \u001b[0mregistry\u001b[0m\u001b[0;34m:\u001b[0m \u001b[0;34m'Registry'\u001b[0m\u001b[0;34m)\u001b[0m \u001b[0;34m->\u001b[0m \u001b[0;32mNone\u001b[0m\u001b[0;34m:\u001b[0m\u001b[0;34m\u001b[0m\u001b[0;34m\u001b[0m\u001b[0m\n",
      "\u001b[0;32m/environment/miniconda3/lib/python3.7/site-packages/mmengine/registry/build_functions.py\u001b[0m in \u001b[0;36mbuild_from_cfg\u001b[0;34m(cfg, registry, default_args)\u001b[0m\n\u001b[1;32m    134\u001b[0m                 obj_cls.__module__.split('.'))  # type: ignore\n\u001b[1;32m    135\u001b[0m             raise type(e)(\n\u001b[0;32m--> 136\u001b[0;31m                 \u001b[0;34mf'class `{obj_cls.__name__}` in '\u001b[0m  \u001b[0;31m# type: ignore\u001b[0m\u001b[0;34m\u001b[0m\u001b[0;34m\u001b[0m\u001b[0m\n\u001b[0m\u001b[1;32m    137\u001b[0m                 f'{cls_location}.py: {e}')\n\u001b[1;32m    138\u001b[0m \u001b[0;34m\u001b[0m\u001b[0m\n",
      "\u001b[0;31mFileNotFoundError\u001b[0m: class `IterBasedTrainLoop` in mmengine/runner/loops.py: class `AdobeComp1kDataset` in mmedit/datasets/comp1k_dataset.py: [Errno 2] No such file or directory: 'data/adobe_composition-1k/./data/alphamatting/training_list.json'"
     ]
    }
   ],
   "source": [
    "runner.train()"
   ]
  },
  {
   "cell_type": "code",
   "execution_count": null,
   "id": "22a4ba4e-78bd-4db9-9572-f8741e04bb00",
   "metadata": {},
   "outputs": [],
   "source": []
  }
 ],
 "metadata": {
  "kernelspec": {
   "display_name": "Python 3 (ipykernel)",
   "language": "python",
   "name": "python3"
  },
  "language_info": {
   "codemirror_mode": {
    "name": "ipython",
    "version": 3
   },
   "file_extension": ".py",
   "mimetype": "text/x-python",
   "name": "python",
   "nbconvert_exporter": "python",
   "pygments_lexer": "ipython3",
   "version": "3.7.10"
  }
 },
 "nbformat": 4,
 "nbformat_minor": 5
}
