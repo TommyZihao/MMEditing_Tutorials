{
 "cells": [
  {
   "cell_type": "markdown",
   "id": "32b1569d-d53d-4cab-b608-b40f2f62958d",
   "metadata": {},
   "source": [
    "# 扩展阅读\n",
    "\n",
    "同济子豪兄 2023-2-27"
   ]
  },
  {
   "cell_type": "markdown",
   "id": "c0b334ae-052a-47ac-ab37-d710aa51b976",
   "metadata": {},
   "source": [
    "MMEditing主页：https://github.com/open-mmlab/mmediting\n",
    "\n",
    "OpenMMLab主页：https://openmmlab.com"
   ]
  },
  {
   "cell_type": "code",
   "execution_count": null,
   "id": "1a04af77-6386-4d18-a187-b04b1dd75374",
   "metadata": {},
   "outputs": [],
   "source": []
  }
 ],
 "metadata": {
  "kernelspec": {
   "display_name": "Python 3 (ipykernel)",
   "language": "python",
   "name": "python3"
  },
  "language_info": {
   "codemirror_mode": {
    "name": "ipython",
    "version": 3
   },
   "file_extension": ".py",
   "mimetype": "text/x-python",
   "name": "python",
   "nbconvert_exporter": "python",
   "pygments_lexer": "ipython3",
   "version": "3.7.10"
  }
 },
 "nbformat": 4,
 "nbformat_minor": 5
}
